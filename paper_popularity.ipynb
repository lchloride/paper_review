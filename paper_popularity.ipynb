{
 "cells": [
  {
   "cell_type": "code",
   "execution_count": 1,
   "metadata": {
    "collapsed": true
   },
   "outputs": [],
   "source": [
    "import pandas as pd\n",
    "import numpy as np\n",
    "import json"
   ]
  },
  {
   "cell_type": "code",
   "execution_count": 2,
   "metadata": {
    "collapsed": true
   },
   "outputs": [],
   "source": [
    "df = pd.read_csv('./data/rev_ref.csv').set_index('id')"
   ]
  },
  {
   "cell_type": "code",
   "execution_count": 3,
   "metadata": {},
   "outputs": [
    {
     "data": {
      "text/html": [
       "<div>\n",
       "<style scoped>\n",
       "    .dataframe tbody tr th:only-of-type {\n",
       "        vertical-align: middle;\n",
       "    }\n",
       "\n",
       "    .dataframe tbody tr th {\n",
       "        vertical-align: top;\n",
       "    }\n",
       "\n",
       "    .dataframe thead th {\n",
       "        text-align: right;\n",
       "    }\n",
       "</style>\n",
       "<table border=\"1\" class=\"dataframe\">\n",
       "  <thead>\n",
       "    <tr style=\"text-align: right;\">\n",
       "      <th></th>\n",
       "      <th>cited</th>\n",
       "      <th>n_ref</th>\n",
       "    </tr>\n",
       "    <tr>\n",
       "      <th>id</th>\n",
       "      <th></th>\n",
       "      <th></th>\n",
       "    </tr>\n",
       "  </thead>\n",
       "  <tbody>\n",
       "    <tr>\n",
       "      <th>000000b8-7f59-49ad-b9bc-e92aa858fc37</th>\n",
       "      <td>['12c7bccb-5bd2-41e5-bce8-0dcd015f50e9', '254e...</td>\n",
       "      <td>38</td>\n",
       "    </tr>\n",
       "    <tr>\n",
       "      <th>0000015a-5721-4f2a-ac3f-a67ccd9812e0</th>\n",
       "      <td>['98734942-58fa-4c0b-9fcd-e9a99e269742']</td>\n",
       "      <td>0</td>\n",
       "    </tr>\n",
       "    <tr>\n",
       "      <th>000001c0-7bca-4c04-8668-75e693e81b7f</th>\n",
       "      <td>['6ff4e527-9ccd-428e-98a5-0ff9d15da319', 'afe8...</td>\n",
       "      <td>0</td>\n",
       "    </tr>\n",
       "    <tr>\n",
       "      <th>000001ed-d83e-44d1-a95f-4e9ac13d9a39</th>\n",
       "      <td>[]</td>\n",
       "      <td>8</td>\n",
       "    </tr>\n",
       "    <tr>\n",
       "      <th>00000237-cab2-43ae-ae63-9012f15afa2c</th>\n",
       "      <td>[]</td>\n",
       "      <td>2</td>\n",
       "    </tr>\n",
       "  </tbody>\n",
       "</table>\n",
       "</div>"
      ],
      "text/plain": [
       "                                                                                  cited  \\\n",
       "id                                                                                        \n",
       "000000b8-7f59-49ad-b9bc-e92aa858fc37  ['12c7bccb-5bd2-41e5-bce8-0dcd015f50e9', '254e...   \n",
       "0000015a-5721-4f2a-ac3f-a67ccd9812e0           ['98734942-58fa-4c0b-9fcd-e9a99e269742']   \n",
       "000001c0-7bca-4c04-8668-75e693e81b7f  ['6ff4e527-9ccd-428e-98a5-0ff9d15da319', 'afe8...   \n",
       "000001ed-d83e-44d1-a95f-4e9ac13d9a39                                                 []   \n",
       "00000237-cab2-43ae-ae63-9012f15afa2c                                                 []   \n",
       "\n",
       "                                      n_ref  \n",
       "id                                           \n",
       "000000b8-7f59-49ad-b9bc-e92aa858fc37     38  \n",
       "0000015a-5721-4f2a-ac3f-a67ccd9812e0      0  \n",
       "000001c0-7bca-4c04-8668-75e693e81b7f      0  \n",
       "000001ed-d83e-44d1-a95f-4e9ac13d9a39      8  \n",
       "00000237-cab2-43ae-ae63-9012f15afa2c      2  "
      ]
     },
     "execution_count": 3,
     "metadata": {},
     "output_type": "execute_result"
    }
   ],
   "source": [
    "df.head()"
   ]
  },
  {
   "cell_type": "code",
   "execution_count": 5,
   "metadata": {},
   "outputs": [
    {
     "data": {
      "text/plain": [
       "(25344645, 2)"
      ]
     },
     "execution_count": 5,
     "metadata": {},
     "output_type": "execute_result"
    }
   ],
   "source": [
    "df.shape"
   ]
  },
  {
   "cell_type": "code",
   "execution_count": null,
   "metadata": {
    "collapsed": true
   },
   "outputs": [],
   "source": [
    "train_df = pd.read_csv('./data/mag_new_reduced.csv', dtype={'field': str}).set_index('id')\n",
    "train_df.head()"
   ]
  },
  {
   "cell_type": "code",
   "execution_count": null,
   "metadata": {
    "collapsed": true
   },
   "outputs": [],
   "source": [
    "df1 = train_df[['year']]\n",
    "df1.head()"
   ]
  },
  {
   "cell_type": "code",
   "execution_count": null,
   "metadata": {
    "collapsed": true
   },
   "outputs": [],
   "source": [
    "df1.to_csv('./data/paper_year.csv', encoding = 'utf-8')"
   ]
  },
  {
   "cell_type": "code",
   "execution_count": 8,
   "metadata": {},
   "outputs": [],
   "source": [
    "# with open('./data/all_id.json') as f:\n",
    "#     all_ids = json.load(f, encoding='utf-8')\n",
    "\n",
    "# dic_year = dict((ids, {'year': 0}) for ids in list(df.index))"
   ]
  },
  {
   "cell_type": "code",
   "execution_count": null,
   "metadata": {},
   "outputs": [],
   "source": [
    "# year_df = pd.read_csv('./data/paper_year.csv').set_index('id')\n",
    "print('total length:', len(df1))\n",
    "year_dic = df1.to_dict(orient = 'index')\n",
    "# for j, idx in enumerate(train_dic):\n",
    "#     row = train_dic[idx]\n",
    "#     dic_year[idx]['year'] = row['year']\n",
    "#     if j % 200_000 == 0:\n",
    "#         print(j)"
   ]
  },
  {
   "cell_type": "code",
   "execution_count": null,
   "metadata": {
    "collapsed": true
   },
   "outputs": [],
   "source": [
    "# df_year = pd.DataFrame.from_dict(dic_year, orient = 'index')"
   ]
  },
  {
   "cell_type": "code",
   "execution_count": null,
   "metadata": {
    "collapsed": true
   },
   "outputs": [],
   "source": [
    "# df = df.join(df_year)\n",
    "# df.head()\n",
    "df['year'] = df.apply(lambda x: 0)\n",
    "df.head()"
   ]
  },
  {
   "cell_type": "code",
   "execution_count": null,
   "metadata": {
    "collapsed": true
   },
   "outputs": [],
   "source": [
    "dic1 = df.to_dict(orient = 'index')\n",
    "for i, idx in enumerate(dic1):\n",
    "    row = dic1[idx]\n",
    "    row['year'] = year_dic[idx]['year']"
   ]
  },
  {
   "cell_type": "code",
   "execution_count": null,
   "metadata": {
    "collapsed": true
   },
   "outputs": [],
   "source": [
    "df['cite_year'] = df['year'].apply(lambda x: [0]*(2018-x+1))\n",
    "# df['cite_year'] = df.apply(lambda row: [0] * (2018-row['year']+1))\n",
    "df.head()"
   ]
  },
  {
   "cell_type": "code",
   "execution_count": null,
   "metadata": {
    "collapsed": true
   },
   "outputs": [],
   "source": [
    "dic = df.to_dict(orient = 'index')"
   ]
  },
  {
   "cell_type": "code",
   "execution_count": null,
   "metadata": {
    "collapsed": true
   },
   "outputs": [],
   "source": [
    "for i, idx in enumerate(dic):\n",
    "    row = dic[idx]\n",
    "    for ref_id in row['cited']:\n",
    "        row['cite_year'][year_dic[ref_id]['year']-row['year']] += 1"
   ]
  },
  {
   "cell_type": "code",
   "execution_count": null,
   "metadata": {
    "collapsed": true
   },
   "outputs": [],
   "source": []
  }
 ],
 "metadata": {
  "kernelspec": {
   "display_name": "Python 3",
   "language": "python",
   "name": "python3"
  },
  "language_info": {
   "codemirror_mode": {
    "name": "ipython",
    "version": 3
   },
   "file_extension": ".py",
   "mimetype": "text/x-python",
   "name": "python",
   "nbconvert_exporter": "python",
   "pygments_lexer": "ipython3",
   "version": "3.6.3"
  }
 },
 "nbformat": 4,
 "nbformat_minor": 2
}
