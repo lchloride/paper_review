{
 "cells": [
  {
   "cell_type": "code",
   "execution_count": 1,
   "metadata": {
    "collapsed": true
   },
   "outputs": [],
   "source": [
    "import pandas as pd\n",
    "import json"
   ]
  },
  {
   "cell_type": "code",
   "execution_count": 2,
   "metadata": {
    "collapsed": true
   },
   "outputs": [],
   "source": [
    "with open('./data/all_id_new.json', 'r') as f:\n",
    "    all_id = json.load(f, encoding='utf-8')"
   ]
  },
  {
   "cell_type": "code",
   "execution_count": 3,
   "metadata": {},
   "outputs": [
    {
     "data": {
      "text/plain": [
       "11763764"
      ]
     },
     "execution_count": 3,
     "metadata": {},
     "output_type": "execute_result"
    }
   ],
   "source": [
    "len(all_id)"
   ]
  },
  {
   "cell_type": "code",
   "execution_count": 4,
   "metadata": {
    "collapsed": true
   },
   "outputs": [],
   "source": [
    "rev_ref = dict((idx, {'id': iid, 'cited':[], 'n_ref':0}) for idx, iid in enumerate(all_id))"
   ]
  },
  {
   "cell_type": "code",
   "execution_count": 5,
   "metadata": {
    "collapsed": true
   },
   "outputs": [],
   "source": [
    "id_idx = dict((iid, idx) for idx, iid in enumerate(all_id))"
   ]
  },
  {
   "cell_type": "code",
   "execution_count": 6,
   "metadata": {},
   "outputs": [
    {
     "name": "stdout",
     "output_type": "stream",
     "text": [
      "Open file 0\n",
      "total 1167272\n",
      "0\n",
      "200000\n",
      "400000\n",
      "600000\n",
      "800000\n",
      "1000000\n",
      "Open file 1\n",
      "total 1165576\n",
      "0\n",
      "200000\n",
      "400000\n",
      "600000\n",
      "800000\n",
      "1000000\n",
      "Open file 2\n",
      "total 1167788\n",
      "0\n",
      "200000\n",
      "400000\n",
      "600000\n",
      "800000\n",
      "1000000\n",
      "Open file 3\n",
      "total 1164303\n",
      "0\n",
      "200000\n",
      "400000\n",
      "600000\n",
      "800000\n",
      "1000000\n",
      "Open file 4\n",
      "total 1164586\n",
      "0\n",
      "200000\n",
      "400000\n",
      "600000\n",
      "800000\n",
      "1000000\n",
      "Open file 5\n",
      "total 1163814\n",
      "0\n",
      "200000\n",
      "400000\n",
      "600000\n",
      "800000\n",
      "1000000\n",
      "Open file 6\n",
      "total 1164947\n",
      "0\n",
      "200000\n",
      "400000\n",
      "600000\n",
      "800000\n",
      "1000000\n",
      "Open file 7\n",
      "total 1164958\n",
      "0\n",
      "200000\n",
      "400000\n",
      "600000\n",
      "800000\n",
      "1000000\n",
      "Open file 8\n",
      "total 361129\n",
      "0\n",
      "200000\n"
     ]
    }
   ],
   "source": [
    "for file in range(0, 9):\n",
    "    print('Open file', file)\n",
    "    with open('./data/cp_ref_%d.json' % file, 'r') as f:\n",
    "        obj = json.load(f, encoding='utf-8')\n",
    "        print('total', len(obj))\n",
    "        for idx, iid in enumerate(obj):\n",
    "            if idx % 200000 == 0:\n",
    "                print(idx)\n",
    "            if iid in id_idx:\n",
    "                true_idx = id_idx[iid]                \n",
    "                cnt = 0\n",
    "                for rid in obj[iid]:\n",
    "                    if rid in id_idx:\n",
    "                        rev_ref[id_idx[rid]]['cited'].append(true_idx)\n",
    "                        cnt += 1\n",
    "                rev_ref[true_idx]['n_ref'] = cnt\n"
   ]
  },
  {
   "cell_type": "code",
   "execution_count": 10,
   "metadata": {
    "collapsed": true
   },
   "outputs": [],
   "source": [
    "df = pd.DataFrame.from_dict(rev_ref, orient='index').reset_index()\n",
    "df.rename(columns=dict(zip(df.columns[[0]], ['nid'])),inplace=True)\n",
    "df = df.set_index('nid')"
   ]
  },
  {
   "cell_type": "code",
   "execution_count": 13,
   "metadata": {
    "collapsed": true
   },
   "outputs": [],
   "source": [
    "df['cited'] = df['cited'].apply(json.dumps)"
   ]
  },
  {
   "cell_type": "code",
   "execution_count": 14,
   "metadata": {},
   "outputs": [
    {
     "data": {
      "text/html": [
       "<div>\n",
       "<style scoped>\n",
       "    .dataframe tbody tr th:only-of-type {\n",
       "        vertical-align: middle;\n",
       "    }\n",
       "\n",
       "    .dataframe tbody tr th {\n",
       "        vertical-align: top;\n",
       "    }\n",
       "\n",
       "    .dataframe thead th {\n",
       "        text-align: right;\n",
       "    }\n",
       "</style>\n",
       "<table border=\"1\" class=\"dataframe\">\n",
       "  <thead>\n",
       "    <tr style=\"text-align: right;\">\n",
       "      <th></th>\n",
       "      <th>id</th>\n",
       "      <th>cited</th>\n",
       "      <th>n_ref</th>\n",
       "    </tr>\n",
       "    <tr>\n",
       "      <th>nid</th>\n",
       "      <th></th>\n",
       "      <th></th>\n",
       "      <th></th>\n",
       "    </tr>\n",
       "  </thead>\n",
       "  <tbody>\n",
       "    <tr>\n",
       "      <th>0</th>\n",
       "      <td>000000b8-7f59-49ad-b9bc-e92aa858fc37</td>\n",
       "      <td>[877113, 1738015, 1801628, 2375682, 2398534, 2...</td>\n",
       "      <td>17</td>\n",
       "    </tr>\n",
       "    <tr>\n",
       "      <th>1</th>\n",
       "      <td>000001ed-d83e-44d1-a95f-4e9ac13d9a39</td>\n",
       "      <td>[]</td>\n",
       "      <td>6</td>\n",
       "    </tr>\n",
       "    <tr>\n",
       "      <th>2</th>\n",
       "      <td>00000237-cab2-43ae-ae63-9012f15afa2c</td>\n",
       "      <td>[]</td>\n",
       "      <td>2</td>\n",
       "    </tr>\n",
       "    <tr>\n",
       "      <th>3</th>\n",
       "      <td>00000531-60da-43d0-9112-2e4a80c6b59b</td>\n",
       "      <td>[6007977]</td>\n",
       "      <td>20</td>\n",
       "    </tr>\n",
       "    <tr>\n",
       "      <th>4</th>\n",
       "      <td>000005eb-d9bc-421d-86bc-6dd16222d347</td>\n",
       "      <td>[10556783]</td>\n",
       "      <td>0</td>\n",
       "    </tr>\n",
       "  </tbody>\n",
       "</table>\n",
       "</div>"
      ],
      "text/plain": [
       "                                       id  \\\n",
       "nid                                         \n",
       "0    000000b8-7f59-49ad-b9bc-e92aa858fc37   \n",
       "1    000001ed-d83e-44d1-a95f-4e9ac13d9a39   \n",
       "2    00000237-cab2-43ae-ae63-9012f15afa2c   \n",
       "3    00000531-60da-43d0-9112-2e4a80c6b59b   \n",
       "4    000005eb-d9bc-421d-86bc-6dd16222d347   \n",
       "\n",
       "                                                 cited  n_ref  \n",
       "nid                                                            \n",
       "0    [877113, 1738015, 1801628, 2375682, 2398534, 2...     17  \n",
       "1                                                   []      6  \n",
       "2                                                   []      2  \n",
       "3                                            [6007977]     20  \n",
       "4                                           [10556783]      0  "
      ]
     },
     "execution_count": 14,
     "metadata": {},
     "output_type": "execute_result"
    }
   ],
   "source": [
    "df.head()"
   ]
  },
  {
   "cell_type": "code",
   "execution_count": 15,
   "metadata": {
    "collapsed": true
   },
   "outputs": [],
   "source": [
    "df.to_csv('./data/rev_ref.csv', encoding='utf-8')"
   ]
  },
  {
   "cell_type": "code",
   "execution_count": null,
   "metadata": {
    "collapsed": true
   },
   "outputs": [],
   "source": []
  },
  {
   "cell_type": "code",
   "execution_count": null,
   "metadata": {
    "collapsed": true
   },
   "outputs": [],
   "source": []
  },
  {
   "cell_type": "code",
   "execution_count": null,
   "metadata": {
    "collapsed": true
   },
   "outputs": [],
   "source": []
  },
  {
   "cell_type": "code",
   "execution_count": 16,
   "metadata": {},
   "outputs": [
    {
     "data": {
      "text/plain": [
       "11763764"
      ]
     },
     "execution_count": 16,
     "metadata": {},
     "output_type": "execute_result"
    }
   ],
   "source": [
    "len(df)"
   ]
  },
  {
   "cell_type": "code",
   "execution_count": 18,
   "metadata": {
    "collapsed": true
   },
   "outputs": [],
   "source": [
    "with open('./data/cp_ref_%d.json' % 0, 'r') as f:\n",
    "    obj1 = json.load(f, encoding='utf-8')"
   ]
  },
  {
   "cell_type": "code",
   "execution_count": 19,
   "metadata": {},
   "outputs": [
    {
     "data": {
      "text/plain": [
       "['0299a529-2c14-4b4d-8767-cbe46e0f364a',\n",
       " '0944c6dc-0875-452e-821a-636da2045b67',\n",
       " '0aa0ffd3-ce9b-4a53-9751-b958aebae940',\n",
       " '123014ca-20ef-4835-a733-2a1516871574',\n",
       " '1f96328c-2ef8-4862-88f1-8ec7267b5f3a',\n",
       " '21211985-3c32-4125-bce0-649a98fe3d98',\n",
       " '214bced0-4719-4841-b18e-b9f160905f15',\n",
       " '21d1db87-ec87-4694-8fa2-0f51bf4af988',\n",
       " '3372ec17-ccf6-479a-8db6-05751b6c1430',\n",
       " '3ac06386-baa2-4e19-847a-7eaf05197ab9',\n",
       " '455a9651-54e7-4692-88af-35d436ea7e0a',\n",
       " '4876dda4-803a-4886-8a8f-6b2a57369e72',\n",
       " '509e8f12-c190-46cf-990e-1d38d50a1120',\n",
       " '51e4bfe4-d62d-4e51-8fb6-dc305df23857',\n",
       " '5516349f-1513-403d-b816-ce07c798ebc1',\n",
       " '59bb8c62-1fb4-477e-b731-ccde521d9b28',\n",
       " '623828da-a1b3-443d-a80e-b05d87f4ccff',\n",
       " '6408c691-0236-40ed-b5bf-ee4fe359776f',\n",
       " '79043465-3757-42c5-ab68-16cc5246d1a8',\n",
       " '83716c19-605a-4bb8-ad8d-f1bb42b7454b',\n",
       " '84e85701-dfd6-439e-a253-c0d24567f658',\n",
       " '90076db3-8c50-4724-a618-c3bc830e86a1',\n",
       " '92b57454-2ba8-4981-97b1-1a29a65e8860',\n",
       " 'aa665d64-7faa-405d-ade8-ccfaf8863fbb',\n",
       " 'aab8f48d-49ff-40ad-9b33-0652059fcac0',\n",
       " 'afc7da94-de77-4670-9a09-137772a653fb',\n",
       " 'b4a71877-3d70-4078-aba4-a484d2756081',\n",
       " 'c89e29e5-695c-4543-b25b-13a1c618a62a',\n",
       " 'c99273ed-e262-4a87-85a4-153dea2a7a2b',\n",
       " 'cb6c8c99-0acd-492b-9b69-30f90b8e6e8c',\n",
       " 'cd6dc174-e902-4dcb-a561-cd53ab39c967',\n",
       " 'd229ae02-4c4a-4396-8355-6b365f621447',\n",
       " 'dca42d6f-8ae1-4e20-812b-cda008b7127f',\n",
       " 'ec66681e-1fc4-4ac8-ba1f-3f29b868e452',\n",
       " 'f02ce13f-0fed-40e6-b964-54323ee94c44',\n",
       " 'fa87fa05-f2be-4963-b9e6-4b638196c148',\n",
       " 'faacad92-4db8-4126-aec0-0c1326f5736b',\n",
       " 'ffda715d-d7d2-4938-834e-56684ccdf91f']"
      ]
     },
     "execution_count": 19,
     "metadata": {},
     "output_type": "execute_result"
    }
   ],
   "source": [
    "obj1['000000b8-7f59-49ad-b9bc-e92aa858fc37']"
   ]
  },
  {
   "cell_type": "code",
   "execution_count": 24,
   "metadata": {},
   "outputs": [
    {
     "data": {
      "text/plain": [
       "496769"
      ]
     },
     "execution_count": 24,
     "metadata": {},
     "output_type": "execute_result"
    }
   ],
   "source": [
    "id_idx['0aa0ffd3-ce9b-4a53-9751-b958aebae940']"
   ]
  },
  {
   "cell_type": "code",
   "execution_count": 9,
   "metadata": {},
   "outputs": [
    {
     "data": {
      "text/plain": [
       "{'cited': [0,\n",
       "  112214,\n",
       "  1394613,\n",
       "  1940273,\n",
       "  4955916,\n",
       "  4986387,\n",
       "  5506658,\n",
       "  8288503,\n",
       "  8554810,\n",
       "  10318174],\n",
       " 'id': '0aa0ffd3-ce9b-4a53-9751-b958aebae940',\n",
       " 'n_ref': 0}"
      ]
     },
     "execution_count": 9,
     "metadata": {},
     "output_type": "execute_result"
    }
   ],
   "source": [
    "rev_ref[496769]"
   ]
  },
  {
   "cell_type": "code",
   "execution_count": 22,
   "metadata": {},
   "outputs": [
    {
     "data": {
      "text/plain": [
       "877113"
      ]
     },
     "execution_count": 22,
     "metadata": {},
     "output_type": "execute_result"
    }
   ],
   "source": [
    "json.loads(df.iloc[0]['cited'])[0]"
   ]
  },
  {
   "cell_type": "code",
   "execution_count": null,
   "metadata": {
    "collapsed": true
   },
   "outputs": [],
   "source": []
  }
 ],
 "metadata": {
  "kernelspec": {
   "display_name": "Python 3",
   "language": "python",
   "name": "python3"
  },
  "language_info": {
   "codemirror_mode": {
    "name": "ipython",
    "version": 3
   },
   "file_extension": ".py",
   "mimetype": "text/x-python",
   "name": "python",
   "nbconvert_exporter": "python",
   "pygments_lexer": "ipython3",
   "version": "3.6.3"
  }
 },
 "nbformat": 4,
 "nbformat_minor": 2
}
