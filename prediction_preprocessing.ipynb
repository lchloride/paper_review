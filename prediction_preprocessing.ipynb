{
 "cells": [
  {
   "cell_type": "code",
   "execution_count": 1,
   "metadata": {
    "collapsed": true
   },
   "outputs": [],
   "source": [
    "import pandas as pd\n",
    "import numpy as np\n",
    "import json"
   ]
  },
  {
   "cell_type": "code",
   "execution_count": 2,
   "metadata": {
    "collapsed": true
   },
   "outputs": [],
   "source": [
    "with open('./data_zx/cite_year_14to17.json', 'r') as f:\n",
    "    cite_year = json.load(f)"
   ]
  },
  {
   "cell_type": "code",
   "execution_count": 13,
   "metadata": {},
   "outputs": [
    {
     "data": {
      "text/plain": [
       "11763494"
      ]
     },
     "execution_count": 13,
     "metadata": {},
     "output_type": "execute_result"
    }
   ],
   "source": [
    "len(cite_year)"
   ]
  },
  {
   "cell_type": "code",
   "execution_count": 4,
   "metadata": {},
   "outputs": [
    {
     "data": {
      "text/plain": [
       "[12, 3, 4, 0]"
      ]
     },
     "execution_count": 4,
     "metadata": {},
     "output_type": "execute_result"
    }
   ],
   "source": [
    "cite_year[0]"
   ]
  },
  {
   "cell_type": "code",
   "execution_count": 5,
   "metadata": {
    "collapsed": true
   },
   "outputs": [],
   "source": [
    "with open('./data_zx/keyword_year_14to17.json', 'r') as f:\n",
    "    kw_year = json.load(f)"
   ]
  },
  {
   "cell_type": "code",
   "execution_count": 6,
   "metadata": {},
   "outputs": [
    {
     "data": {
      "text/plain": [
       "dict"
      ]
     },
     "execution_count": 6,
     "metadata": {},
     "output_type": "execute_result"
    }
   ],
   "source": [
    "type(kw_year)"
   ]
  },
  {
   "cell_type": "code",
   "execution_count": 7,
   "metadata": {
    "collapsed": true
   },
   "outputs": [],
   "source": [
    "with open('./data_zx/author_score_year.json', 'r') as f:\n",
    "    au_score = json.load(f)"
   ]
  },
  {
   "cell_type": "code",
   "execution_count": 8,
   "metadata": {},
   "outputs": [
    {
     "data": {
      "text/plain": [
       "dict"
      ]
     },
     "execution_count": 8,
     "metadata": {},
     "output_type": "execute_result"
    }
   ],
   "source": [
    "type(au_score)"
   ]
  },
  {
   "cell_type": "code",
   "execution_count": 22,
   "metadata": {},
   "outputs": [
    {
     "name": "stdout",
     "output_type": "stream",
     "text": [
      "{'id': [0, 1013803, 8227147, 8634565, 9327239], 'order': [0, 0, 0, 0, 0], 'rank_score': [1.6881689914910116e-08, 7.350522653078802e-09, 8.586583277910506e-09, 7.679991052985015e-09, 6.018948954548428e-09], 'score': 0.41734137921950365, 'major': 'Computer Science', 'score_year': [0, 6.3296672487513205e-09, 0, 0]}\n",
      "{'id': [0, 10577955], 'order': [1, 2], 'rank_score': [1.9485039745235887e-08, 1.0410727780641514e-08], 'major': 'Computer Science', 'score': -0.019108053075330915, 'score_year': [0, 0, 0, 0]}\n",
      "{'id': [0, 377508, 3560780, 4158759, 4349346, 5958851, 7838344, 9512270, 9820122], 'order': [2, 1, 1, 1, 0, 0, 0, 2, 0], 'rank_score': [1.9485039745235887e-08, 5.100408338691596e-09, 3.6431488133511403e-09, 9.902510814634884e-09, 4.250340282242997e-09, 4.30745459573338e-09, 1.0599818311165592e-08, 6.120490006429915e-09, 4.02972003628133e-09], 'major': 'Computer Science', 'score': 0.31579377429857425, 'score_year': [1.2939585217301007e-08, 2.0872813193607324e-09, 3.6112283054345944e-09, 3.523432107966406e-09]}\n",
      "{'id': [1, 5507506], 'order': [0, 0], 'rank_score': [1.9126531270093484e-08, 1.9126531270093484e-08], 'major': 'Computer Science', 'score': 0.32674920745211, 'score_year': [0, 0, 0, 0]}\n",
      "{'id': [2, 544055, 1608108, 2356732, 3903417, 4725209, 4794041, 6972925, 7034440, 7123244, 7951442, 8476109, 8696394, 9116286, 9230323, 9259951, 9745746, 9834985, 11115672, 11324015, 11432069, 11515061, 11522086], 'order': [0, 0, 0, 0, 0, 0, 0, 0, 0, 0, 0, 0, 0, 0, 0, 0, 0, 0, 0, 0, 0, 0, 0], 'rank_score': [1.663176632182042e-09, 1.663176632182042e-09, 1.663176632182042e-09, 1.663176632182042e-09, 1.663176632182042e-09, 1.663176632182042e-09, 1.663176632182042e-09, 1.663176632182042e-09, 1.663176632182042e-09, 1.663176632182042e-09, 1.7399239762870547e-09, 1.663176632182042e-09, 1.663176632182042e-09, 1.663176632182042e-09, 1.666828000525864e-09, 1.663176632182042e-09, 1.663176632182042e-09, 1.663176632182042e-09, 1.663176632182042e-09, 1.663176632182042e-09, 1.663176632182042e-09, 1.663176632182042e-09, 1.663176632182042e-09], 'major': 'Physics', 'score': 0.3041922326896818, 'score_year': [1.3763620807711827e-09, 0, 1.418086396576994e-09, 0]}\n"
     ]
    }
   ],
   "source": [
    "for i, au in enumerate(au_score):\n",
    "    print(au_score[au])\n",
    "    if i > 3:\n",
    "        break"
   ]
  },
  {
   "cell_type": "code",
   "execution_count": 10,
   "metadata": {
    "collapsed": true
   },
   "outputs": [],
   "source": [
    "with open('./data_zx/mag_list_noid.json', 'r') as f:\n",
    "    mag = json.load(f)"
   ]
  },
  {
   "cell_type": "code",
   "execution_count": 11,
   "metadata": {},
   "outputs": [
    {
     "data": {
      "text/plain": [
       "list"
      ]
     },
     "execution_count": 11,
     "metadata": {},
     "output_type": "execute_result"
    }
   ],
   "source": [
    "type(mag)"
   ]
  },
  {
   "cell_type": "code",
   "execution_count": 12,
   "metadata": {},
   "outputs": [
    {
     "data": {
      "text/plain": [
       "[{'authors': '[\"Hsin-chou Huang\", \"Chiou-lan Chern\", \"Chih-cheng Lin\"]',\n",
       "  'field': 'Computer Science',\n",
       "  'fos': '[\"natural language processing\", \"social science\", \"computer science\", \"multimedia\", \"sociology\", \"reciprocal teaching\", \"data analysis\", \"exploratory research\", \"pedagogy\"]',\n",
       "  'n_citation': 103,\n",
       "  'references': [496769,\n",
       "   849652,\n",
       "   1472726,\n",
       "   1544154,\n",
       "   2732379,\n",
       "   3222705,\n",
       "   3744748,\n",
       "   4557944,\n",
       "   6085378,\n",
       "   6152775,\n",
       "   7869730,\n",
       "   9377300,\n",
       "   9468826,\n",
       "   10159725,\n",
       "   11046851,\n",
       "   11521859,\n",
       "   11757068],\n",
       "  'title': \"EFL learners' use of online reading strategies and comprehension of texts: An exploratory study\",\n",
       "  'venue': 'Computers in Education',\n",
       "  'year': 2009},\n",
       " {'authors': '[\"Mark John Ebersole\"]',\n",
       "  'field': 'Computer Science',\n",
       "  'fos': '[\"embedded system\", \"parallel computing\", \"computer hardware\", \"computer science\"]',\n",
       "  'n_citation': 0,\n",
       "  'references': [1299988, 1382979, 2572588, 8986413, 9458070, 10276294],\n",
       "  'title': 'Microprocessor that enables ARM ISA program to access 64-bit general purpose registers written by x86 ISA program',\n",
       "  'venue': nan,\n",
       "  'year': 2013},\n",
       " {'authors': '[\"Kh. M. Beshtoev\"]',\n",
       "  'field': 'Physics',\n",
       "  'fos': '[\"weak isospin\", \"neutrino oscillation\", \"weak interaction\", \"quantum electrodynamics\", \"particle physics\", \"physics\", \"quantum mechanics\"]',\n",
       "  'n_citation': 0,\n",
       "  'references': [1155299, 2236103],\n",
       "  'title': 'The Distinctive Feature of Weak Interactions and Some of Its Subsequences (Impossibility of Generation of Masses and Absence of the MSW Effect',\n",
       "  'venue': 'arXiv: High Energy Physics - Phenomenology',\n",
       "  'year': 2001}]"
      ]
     },
     "execution_count": 12,
     "metadata": {},
     "output_type": "execute_result"
    }
   ],
   "source": [
    "mag[:3]"
   ]
  },
  {
   "cell_type": "code",
   "execution_count": 14,
   "metadata": {
    "collapsed": true
   },
   "outputs": [],
   "source": [
    "paper_pred = dict((idx, {'cite': [], 'kw_mean': [], 'author_score': []}) for idx in range(len(cite_year)))"
   ]
  },
  {
   "cell_type": "code",
   "execution_count": 18,
   "metadata": {},
   "outputs": [
    {
     "name": "stdout",
     "output_type": "stream",
     "text": [
      "Hsin-chou Huang\n",
      "Chiou-lan Chern\n",
      "Chih-cheng Lin\n",
      "natural language processing\n",
      "social science\n",
      "computer science\n",
      "multimedia\n",
      "sociology\n",
      "reciprocal teaching\n",
      "data analysis\n",
      "exploratory research\n",
      "pedagogy\n"
     ]
    }
   ],
   "source": [
    "for au in json.loads(mag[0]['authors']):\n",
    "    print(au)\n",
    "for kw in json.loads(mag[0]['fos']):\n",
    "    print(kw)"
   ]
  },
  {
   "cell_type": "code",
   "execution_count": 20,
   "metadata": {},
   "outputs": [],
   "source": [
    "for i, idx in enumerate(paper_pred):\n",
    "    paper_pred[idx]['cite'] = cite_year[idx]\n",
    "    kw_list = json.loads(mag[idx]['fos'])\n",
    "    for j in range(4):\n",
    "        sum_kw = 0\n",
    "        for kw in kw_list:\n",
    "            sum_kw += kw_year[kw][j]\n",
    "        paper_pred[idx]['kw_mean'].append(sum_kw/len(kw_list))\n"
   ]
  },
  {
   "cell_type": "code",
   "execution_count": 83,
   "metadata": {},
   "outputs": [
    {
     "name": "stdout",
     "output_type": "stream",
     "text": [
      "{'cite': [12, 3, 4, 0], 'kw_mean': [29040.222222222223, 28599.444444444445, 22924.88888888889, 5704.444444444444], 'author_score': [1.0162432414641644, 0.9934141887023189, 0.37411916711921805, 0.59008688953205546]}\n",
      "{'cite': [0, 0, 0, 0], 'kw_mean': [63007.5, 62395.5, 50758.5, 12445.5], 'author_score': [-0.21922763831511449, -0.28170343555608213, -0.22305333874067942, -0.092328531961015162]}\n",
      "{'cite': [0, 0, 0, 0], 'kw_mean': [37642.28571428572, 37914.57142857143, 33353.857142857145, 14270.142857142857], 'author_score': [0.17501728737653768, -0.28170343555608213, 0.48045427862205253, -0.092328531961015162]}\n",
      "{'cite': [1, 0, 0, 0], 'kw_mean': [26045.636363636364, 26330.909090909092, 21744.090909090908, 5644.272727272727], 'author_score': [0.37466764216526177, -0.20423981041691153, 0.23866989397455957, 0.15074147520394748]}\n",
      "{'cite': [0, 0, 0, 0], 'kw_mean': [27728.2, 27791.8, 24303.0, 10460.6], 'author_score': [-0.17004391294767615, -0.17363944945015042, -0.20906320959727831, -0.074425234362678588]}\n",
      "{'cite': [0, 0, 0, 0], 'kw_mean': [34501.0, 34586.875, 30246.25, 13025.375], 'author_score': [-0.097567267370258448, -0.119934151419383, -0.15662425916277734, -0.039840692782747142]}\n",
      "{'cite': [0, 0, 0, 0], 'kw_mean': [27307.5, 27289.916666666668, 22731.333333333332, 5729.333333333333], 'author_score': [3.5114280784242098, 1.3992194116186674, 0.50831582721057478, 0.16012701182322106]}\n"
     ]
    }
   ],
   "source": [
    "for i in paper_pred.keys():\n",
    "    print(paper_pred[i])\n",
    "    if i > 5:\n",
    "        break"
   ]
  },
  {
   "cell_type": "code",
   "execution_count": 24,
   "metadata": {},
   "outputs": [],
   "source": [
    "for i, idx in enumerate(paper_pred):\n",
    "    au_list = json.loads(mag[idx]['authors'])\n",
    "    for j in range(4):\n",
    "        sum_au = 0\n",
    "        for au in au_list:\n",
    "            sum_au += au_score[au]['score_year'][j]\n",
    "        paper_pred[idx]['author_score'].append(sum_au/len(au_list))"
   ]
  },
  {
   "cell_type": "code",
   "execution_count": 26,
   "metadata": {
    "collapsed": true
   },
   "outputs": [],
   "source": [
    "with open('./data_zx/prediction_data.json', 'w') as f:\n",
    "    json.dump(paper_pred, f)"
   ]
  },
  {
   "cell_type": "code",
   "execution_count": 34,
   "metadata": {},
   "outputs": [
    {
     "data": {
      "text/html": [
       "<div>\n",
       "<style>\n",
       "    .dataframe thead tr:only-child th {\n",
       "        text-align: right;\n",
       "    }\n",
       "\n",
       "    .dataframe thead th {\n",
       "        text-align: left;\n",
       "    }\n",
       "\n",
       "    .dataframe tbody tr th {\n",
       "        vertical-align: top;\n",
       "    }\n",
       "</style>\n",
       "<table border=\"1\" class=\"dataframe\">\n",
       "  <thead>\n",
       "    <tr style=\"text-align: right;\">\n",
       "      <th></th>\n",
       "      <th>cite</th>\n",
       "      <th>kw_mean</th>\n",
       "      <th>author_score</th>\n",
       "    </tr>\n",
       "  </thead>\n",
       "  <tbody>\n",
       "    <tr>\n",
       "      <th>0</th>\n",
       "      <td>[12, 3, 4, 0]</td>\n",
       "      <td>[29040.222222222223, 28599.444444444445, 22924...</td>\n",
       "      <td>[4.313195072433669e-09, 2.805649522704018e-09,...</td>\n",
       "    </tr>\n",
       "    <tr>\n",
       "      <th>1</th>\n",
       "      <td>[0, 0, 0, 0]</td>\n",
       "      <td>[63007.5, 62395.5, 50758.5, 12445.5]</td>\n",
       "      <td>[0.0, 0.0, 0.0, 0.0]</td>\n",
       "    </tr>\n",
       "    <tr>\n",
       "      <th>2</th>\n",
       "      <td>[0, 0, 0, 0]</td>\n",
       "      <td>[37642.28571428572, 37914.57142857143, 33353.8...</td>\n",
       "      <td>[1.3763620807711827e-09, 0.0, 1.41808639657699...</td>\n",
       "    </tr>\n",
       "    <tr>\n",
       "      <th>3</th>\n",
       "      <td>[1, 0, 0, 0]</td>\n",
       "      <td>[26045.636363636364, 26330.909090909092, 21744...</td>\n",
       "      <td>[2.073368332054258e-09, 1.70443713398627e-10, ...</td>\n",
       "    </tr>\n",
       "    <tr>\n",
       "      <th>4</th>\n",
       "      <td>[0, 0, 0, 0]</td>\n",
       "      <td>[27728.2, 27791.8, 24303.0, 10460.6]</td>\n",
       "      <td>[1.717070028689509e-10, 2.3777388475508985e-10...</td>\n",
       "    </tr>\n",
       "  </tbody>\n",
       "</table>\n",
       "</div>"
      ],
      "text/plain": [
       "            cite                                            kw_mean  \\\n",
       "0  [12, 3, 4, 0]  [29040.222222222223, 28599.444444444445, 22924...   \n",
       "1   [0, 0, 0, 0]               [63007.5, 62395.5, 50758.5, 12445.5]   \n",
       "2   [0, 0, 0, 0]  [37642.28571428572, 37914.57142857143, 33353.8...   \n",
       "3   [1, 0, 0, 0]  [26045.636363636364, 26330.909090909092, 21744...   \n",
       "4   [0, 0, 0, 0]               [27728.2, 27791.8, 24303.0, 10460.6]   \n",
       "\n",
       "                                        author_score  \n",
       "0  [4.313195072433669e-09, 2.805649522704018e-09,...  \n",
       "1                               [0.0, 0.0, 0.0, 0.0]  \n",
       "2  [1.3763620807711827e-09, 0.0, 1.41808639657699...  \n",
       "3  [2.073368332054258e-09, 1.70443713398627e-10, ...  \n",
       "4  [1.717070028689509e-10, 2.3777388475508985e-10...  "
      ]
     },
     "execution_count": 34,
     "metadata": {},
     "output_type": "execute_result"
    }
   ],
   "source": [
    "df = pd.DataFrame.from_dict(paper_pred, orient = 'index')\n",
    "df.head()"
   ]
  },
  {
   "cell_type": "code",
   "execution_count": 36,
   "metadata": {},
   "outputs": [],
   "source": [
    "df.index.rename('nid', inplace=True)"
   ]
  },
  {
   "cell_type": "code",
   "execution_count": 37,
   "metadata": {},
   "outputs": [
    {
     "data": {
      "text/html": [
       "<div>\n",
       "<style>\n",
       "    .dataframe thead tr:only-child th {\n",
       "        text-align: right;\n",
       "    }\n",
       "\n",
       "    .dataframe thead th {\n",
       "        text-align: left;\n",
       "    }\n",
       "\n",
       "    .dataframe tbody tr th {\n",
       "        vertical-align: top;\n",
       "    }\n",
       "</style>\n",
       "<table border=\"1\" class=\"dataframe\">\n",
       "  <thead>\n",
       "    <tr style=\"text-align: right;\">\n",
       "      <th></th>\n",
       "      <th>cite</th>\n",
       "      <th>kw_mean</th>\n",
       "      <th>author_score</th>\n",
       "    </tr>\n",
       "    <tr>\n",
       "      <th>nid</th>\n",
       "      <th></th>\n",
       "      <th></th>\n",
       "      <th></th>\n",
       "    </tr>\n",
       "  </thead>\n",
       "  <tbody>\n",
       "    <tr>\n",
       "      <th>0</th>\n",
       "      <td>[12, 3, 4, 0]</td>\n",
       "      <td>[29040.222222222223, 28599.444444444445, 22924...</td>\n",
       "      <td>[4.313195072433669e-09, 2.805649522704018e-09,...</td>\n",
       "    </tr>\n",
       "    <tr>\n",
       "      <th>1</th>\n",
       "      <td>[0, 0, 0, 0]</td>\n",
       "      <td>[63007.5, 62395.5, 50758.5, 12445.5]</td>\n",
       "      <td>[0.0, 0.0, 0.0, 0.0]</td>\n",
       "    </tr>\n",
       "    <tr>\n",
       "      <th>2</th>\n",
       "      <td>[0, 0, 0, 0]</td>\n",
       "      <td>[37642.28571428572, 37914.57142857143, 33353.8...</td>\n",
       "      <td>[1.3763620807711827e-09, 0.0, 1.41808639657699...</td>\n",
       "    </tr>\n",
       "    <tr>\n",
       "      <th>3</th>\n",
       "      <td>[1, 0, 0, 0]</td>\n",
       "      <td>[26045.636363636364, 26330.909090909092, 21744...</td>\n",
       "      <td>[2.073368332054258e-09, 1.70443713398627e-10, ...</td>\n",
       "    </tr>\n",
       "    <tr>\n",
       "      <th>4</th>\n",
       "      <td>[0, 0, 0, 0]</td>\n",
       "      <td>[27728.2, 27791.8, 24303.0, 10460.6]</td>\n",
       "      <td>[1.717070028689509e-10, 2.3777388475508985e-10...</td>\n",
       "    </tr>\n",
       "  </tbody>\n",
       "</table>\n",
       "</div>"
      ],
      "text/plain": [
       "              cite                                            kw_mean  \\\n",
       "nid                                                                     \n",
       "0    [12, 3, 4, 0]  [29040.222222222223, 28599.444444444445, 22924...   \n",
       "1     [0, 0, 0, 0]               [63007.5, 62395.5, 50758.5, 12445.5]   \n",
       "2     [0, 0, 0, 0]  [37642.28571428572, 37914.57142857143, 33353.8...   \n",
       "3     [1, 0, 0, 0]  [26045.636363636364, 26330.909090909092, 21744...   \n",
       "4     [0, 0, 0, 0]               [27728.2, 27791.8, 24303.0, 10460.6]   \n",
       "\n",
       "                                          author_score  \n",
       "nid                                                     \n",
       "0    [4.313195072433669e-09, 2.805649522704018e-09,...  \n",
       "1                                 [0.0, 0.0, 0.0, 0.0]  \n",
       "2    [1.3763620807711827e-09, 0.0, 1.41808639657699...  \n",
       "3    [2.073368332054258e-09, 1.70443713398627e-10, ...  \n",
       "4    [1.717070028689509e-10, 2.3777388475508985e-10...  "
      ]
     },
     "execution_count": 37,
     "metadata": {},
     "output_type": "execute_result"
    }
   ],
   "source": [
    "df.head()"
   ]
  },
  {
   "cell_type": "code",
   "execution_count": 38,
   "metadata": {},
   "outputs": [
    {
     "name": "stdout",
     "output_type": "stream",
     "text": [
      "[0.009003227566381326, 0.00729141217461025, 0.00528906556054633, 0.001869252997879282]\n"
     ]
    }
   ],
   "source": [
    "au_score_mean = [0]*4\n",
    "for idx in paper_pred.keys():\n",
    "    for j in range(4):\n",
    "        au_score_mean[j] += paper_pred[idx]['author_score'][j]\n",
    "print(au_score_mean)"
   ]
  },
  {
   "cell_type": "code",
   "execution_count": 40,
   "metadata": {},
   "outputs": [
    {
     "name": "stdout",
     "output_type": "stream",
     "text": [
      "[7.653531821737085e-10, 6.198338839302548e-10, 4.4961688768203814e-10, 1.589028734047284e-10]\n"
     ]
    }
   ],
   "source": [
    "au_score_mean = [c / 11763494 for c in au_score_mean]\n",
    "print(au_score_mean)"
   ]
  },
  {
   "cell_type": "code",
   "execution_count": 71,
   "metadata": {},
   "outputs": [],
   "source": [
    "au_sco_year_agg = []"
   ]
  },
  {
   "cell_type": "code",
   "execution_count": 78,
   "metadata": {},
   "outputs": [
    {
     "data": {
      "text/plain": [
       "[2.805649522704018e-09, 0.0, 0.0, 1.70443713398627e-10, 2.3777388475508985e-10]"
      ]
     },
     "execution_count": 78,
     "metadata": {},
     "output_type": "execute_result"
    }
   ],
   "source": [
    "for idx in paper_pred.keys():\n",
    "#         print(paper_pred[idx]['author_score'][j], 'emmm')\n",
    "    au_sco_year_agg.append(paper_pred[idx]['author_score'][3])\n",
    "#     print(au_sco_year_agg[1])\n",
    "au_sco_year_agg[:5]"
   ]
  },
  {
   "cell_type": "code",
   "execution_count": 79,
   "metadata": {},
   "outputs": [
    {
     "name": "stdout",
     "output_type": "stream",
     "text": [
      "1.72105924387e-09\n"
     ]
    }
   ],
   "source": [
    "std0 = np.std(au_sco_year_agg)\n",
    "# mean0 = np.mean(au_sco_year_agg)\n",
    "print(std0)"
   ]
  },
  {
   "cell_type": "code",
   "execution_count": 80,
   "metadata": {
    "collapsed": true
   },
   "outputs": [],
   "source": [
    "au_score_std.append(std0)"
   ]
  },
  {
   "cell_type": "code",
   "execution_count": 81,
   "metadata": {},
   "outputs": [
    {
     "data": {
      "text/plain": [
       "[3.4911345487999164e-09,\n",
       " 2.2003064417965073e-09,\n",
       " 2.0157370888079835e-09,\n",
       " 1.7210592438729948e-09]"
      ]
     },
     "execution_count": 81,
     "metadata": {},
     "output_type": "execute_result"
    }
   ],
   "source": [
    "au_score_std"
   ]
  },
  {
   "cell_type": "code",
   "execution_count": 82,
   "metadata": {
    "collapsed": true
   },
   "outputs": [],
   "source": [
    "for idx in paper_pred.keys():\n",
    "    for j in range(4):\n",
    "        paper_pred[idx]['author_score'][j] = (paper_pred[idx]['author_score'][j]-au_score_mean[j])/au_score_std[j]"
   ]
  },
  {
   "cell_type": "code",
   "execution_count": 89,
   "metadata": {},
   "outputs": [
    {
     "ename": "SyntaxError",
     "evalue": "invalid syntax (<ipython-input-89-965e4428df48>, line 1)",
     "output_type": "error",
     "traceback": [
      "\u001b[0;36m  File \u001b[0;32m\"<ipython-input-89-965e4428df48>\"\u001b[0;36m, line \u001b[0;32m1\u001b[0m\n\u001b[0;31m    df['author_score'].apply(lambda x: x[i] = (x[i]-au_score_mean[i])/au_score_std[i] for i in range(4))\u001b[0m\n\u001b[0m                                                                                        ^\u001b[0m\n\u001b[0;31mSyntaxError\u001b[0m\u001b[0;31m:\u001b[0m invalid syntax\n"
     ]
    }
   ],
   "source": [
    "df['author_score'].apply(lambda x: x[i] = (x[i]-au_score_mean[i])/au_score_std[i] for i in range(4))"
   ]
  },
  {
   "cell_type": "code",
   "execution_count": 90,
   "metadata": {
    "collapsed": true
   },
   "outputs": [],
   "source": [
    "with open('./data_zx/prediction_data_normal.json', 'w') as f:\n",
    "    json.dump(paper_pred, f)"
   ]
  },
  {
   "cell_type": "code",
   "execution_count": null,
   "metadata": {
    "collapsed": true
   },
   "outputs": [],
   "source": []
  }
 ],
 "metadata": {
  "kernelspec": {
   "display_name": "Python 3",
   "language": "python",
   "name": "python3"
  },
  "language_info": {
   "codemirror_mode": {
    "name": "ipython",
    "version": 3
   },
   "file_extension": ".py",
   "mimetype": "text/x-python",
   "name": "python",
   "nbconvert_exporter": "python",
   "pygments_lexer": "ipython3",
   "version": "3.6.3"
  }
 },
 "nbformat": 4,
 "nbformat_minor": 2
}
