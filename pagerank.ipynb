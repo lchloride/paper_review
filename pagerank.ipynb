{
 "cells": [
  {
   "cell_type": "code",
   "execution_count": 1,
   "metadata": {
    "collapsed": true
   },
   "outputs": [],
   "source": [
    "import pandas as pd\n",
    "import json"
   ]
  },
  {
   "cell_type": "code",
   "execution_count": 2,
   "metadata": {
    "collapsed": true
   },
   "outputs": [],
   "source": [
    "df = pd.read_csv('./data/rev_ref.csv', encoding='utf-8')"
   ]
  },
  {
   "cell_type": "code",
   "execution_count": 5,
   "metadata": {},
   "outputs": [],
   "source": [
    "df = df.set_index('nid')"
   ]
  },
  {
   "cell_type": "code",
   "execution_count": 6,
   "metadata": {
    "collapsed": true
   },
   "outputs": [],
   "source": [
    "cite_dict = df.to_dict('index')"
   ]
  },
  {
   "cell_type": "code",
   "execution_count": 58,
   "metadata": {},
   "outputs": [
    {
     "name": "stdout",
     "output_type": "stream",
     "text": [
      "0 {'id': '000000b8-7f59-49ad-b9bc-e92aa858fc37', 'cited': '[877113, 1738015, 1801628, 2375682, 2398534, 2574460, 3122433, 3392608, 3545645, 3593462, 4325752, 4787741, 4916987, 5489857, 5556256, 5615564, 6636660, 6729355, 6729360, 6887341, 6920577, 7009207, 7409995, 7617229, 7700168, 7730619, 7824727, 7825621, 7838344, 8227147, 8473347, 8631855, 9141446, 9327239, 9623822, 9761228, 10039120, 10540891, 10617720, 10866595, 11110006, 11227418, 11535220, 11693317]', 'n_ref': 17, 'rank_score': 1.9485039745235887e-08}\n"
     ]
    }
   ],
   "source": [
    "for key in cite_dict:\n",
    "    print(key, cite_dict[key])\n",
    "    break"
   ]
  },
  {
   "cell_type": "markdown",
   "metadata": {
    "collapsed": true
   },
   "source": [
    "with open('./data/rev_ref.json', 'r') as f:\n",
    "    cite_dict = json.load(f, encoding='utf-8')"
   ]
  },
  {
   "cell_type": "markdown",
   "metadata": {},
   "source": [
    "for idx, iid in enumerate(cite_dict):\n",
    "    if type(cite_dict[iid]['cited']) == str:\n",
    "        cite_dict[iid]['cited'] = json.loads(cite_dict[iid]['cited'])"
   ]
  },
  {
   "cell_type": "markdown",
   "metadata": {},
   "source": [
    "with open('./data/rev_ref.json', 'w') as f:\n",
    "    json.dump(cite_dict, f, ensure_ascii=False)"
   ]
  },
  {
   "cell_type": "code",
   "execution_count": 4,
   "metadata": {
    "collapsed": true
   },
   "outputs": [],
   "source": [
    "with open('./data/paper_author_coef.json', 'r') as f:\n",
    "    paper_author_coef = json.load(f, encoding='utf-8')"
   ]
  },
  {
   "cell_type": "code",
   "execution_count": 53,
   "metadata": {
    "collapsed": true
   },
   "outputs": [],
   "source": [
    "total_count = len(cite_dict)\n",
    "for key in cite_dict:\n",
    "    cite_dict[key]['rank_score'] = 1/float(total_count)"
   ]
  },
  {
   "cell_type": "code",
   "execution_count": 54,
   "metadata": {},
   "outputs": [
    {
     "data": {
      "text/plain": [
       "11763764"
      ]
     },
     "execution_count": 54,
     "metadata": {},
     "output_type": "execute_result"
    }
   ],
   "source": [
    "len(cite_dict)"
   ]
  },
  {
   "cell_type": "code",
   "execution_count": 55,
   "metadata": {
    "collapsed": true
   },
   "outputs": [],
   "source": [
    "def paper_rank2(dic):\n",
    "    total_count = len(dic)\n",
    "\n",
    "    for _ in range(3):\n",
    "        for idx, p in enumerate(dic):\n",
    "            print(idx) if idx % 1000000 == 0 else None\n",
    "            rank_sum = 0\n",
    "#             print(dic[p])\n",
    "            cited_list = json.loads(dic[p]['cited'])\n",
    "            if cited_list:\n",
    "#                 print(cited_list)\n",
    "                for c in cited_list:\n",
    "    #                 print(c)\n",
    "                    c_row = dic[c]\n",
    "                    cite_cnt = c_row['n_ref']\n",
    "                    rank_sum += (1/float(cite_cnt)) * c_row['rank_score']\n",
    "            dic[p]['rank_score'] = 0.45*(1/float(total_count)/float(paper_author_coef[p])) + 0.55*rank_sum\n",
    "#             print(dic[p]['rank_score'])"
   ]
  },
  {
   "cell_type": "code",
   "execution_count": 56,
   "metadata": {},
   "outputs": [
    {
     "name": "stdout",
     "output_type": "stream",
     "text": [
      "0\n",
      "1000000\n",
      "2000000\n",
      "3000000\n",
      "4000000\n",
      "5000000\n",
      "6000000\n",
      "7000000\n",
      "8000000\n",
      "9000000\n",
      "10000000\n",
      "11000000\n",
      "0\n",
      "1000000\n",
      "2000000\n",
      "3000000\n",
      "4000000\n",
      "5000000\n",
      "6000000\n",
      "7000000\n",
      "8000000\n",
      "9000000\n",
      "10000000\n",
      "11000000\n",
      "0\n",
      "1000000\n",
      "2000000\n",
      "3000000\n",
      "4000000\n",
      "5000000\n",
      "6000000\n",
      "7000000\n",
      "8000000\n",
      "9000000\n",
      "10000000\n",
      "11000000\n"
     ]
    }
   ],
   "source": [
    "paper_rank2(cite_dict)"
   ]
  },
  {
   "cell_type": "code",
   "execution_count": null,
   "metadata": {
    "collapsed": true
   },
   "outputs": [],
   "source": []
  },
  {
   "cell_type": "code",
   "execution_count": 57,
   "metadata": {
    "collapsed": true
   },
   "outputs": [],
   "source": [
    "with open('./data/pagerank_3_2.json', 'w') as f:\n",
    "    json.dump(cite_dict, f, ensure_ascii=False)"
   ]
  },
  {
   "cell_type": "code",
   "execution_count": 61,
   "metadata": {
    "collapsed": true
   },
   "outputs": [],
   "source": [
    "for idx, author in enumerate(author_article):\n",
    "    for iid in author_article[author]['id']:\n",
    "        author_article[author]['rank_score'].append(cite_dict[iid]['rank_score'])"
   ]
  },
  {
   "cell_type": "code",
   "execution_count": 62,
   "metadata": {},
   "outputs": [
    {
     "data": {
      "text/plain": [
       "{'id': [0, 1013803, 8227147, 8634565, 9327239],\n",
       " 'order': [0, 0, 0, 0, 0],\n",
       " 'rank_score': [1.9485039745235887e-08,\n",
       "  8.819456085654217e-09,\n",
       "  1.0982444346936832e-08,\n",
       "  9.419237027924808e-09,\n",
       "  8.012927361414515e-09]}"
      ]
     },
     "execution_count": 62,
     "metadata": {},
     "output_type": "execute_result"
    }
   ],
   "source": [
    "next(iter(author_article.values()))"
   ]
  },
  {
   "cell_type": "code",
   "execution_count": 63,
   "metadata": {
    "collapsed": true
   },
   "outputs": [],
   "source": [
    "with open('./data/author_score_3.json', 'w') as f:\n",
    "    json.dump(author_article, f, ensure_ascii=False)"
   ]
  },
  {
   "cell_type": "code",
   "execution_count": null,
   "metadata": {
    "collapsed": true
   },
   "outputs": [],
   "source": [
    "cite_score = pd.DataFrame.from_dict(cite_dict, orient='index')\n",
    "cite_score.rename(columns=dict(zip(cite_score.columns[[0,1,2]], ['cited', 'n_ref', 'rank_score'])),inplace=True)\n",
    "cite_score.head()"
   ]
  },
  {
   "cell_type": "markdown",
   "metadata": {},
   "source": [
    "### id-author coef"
   ]
  },
  {
   "cell_type": "code",
   "execution_count": 7,
   "metadata": {
    "collapsed": true
   },
   "outputs": [],
   "source": [
    "with open('./data/mag_list_noid.json', 'r') as f:\n",
    "    mag_list = json.load(f, encoding='utf-8')"
   ]
  },
  {
   "cell_type": "code",
   "execution_count": 50,
   "metadata": {
    "collapsed": true
   },
   "outputs": [],
   "source": [
    "author_article = {}\n",
    "for idx, row in enumerate(mag_list):\n",
    "    al = json.loads(row['authors'])\n",
    "    for order, author in enumerate(al):\n",
    "        if author not in author_article:\n",
    "            author_article[author] = {'id': [], 'order': [], 'rank_score': []}\n",
    "        author_article[author]['id'].append(idx)\n",
    "        author_article[author]['order'].append(order)"
   ]
  },
  {
   "cell_type": "code",
   "execution_count": 52,
   "metadata": {},
   "outputs": [
    {
     "data": {
      "text/plain": [
       "6872744"
      ]
     },
     "execution_count": 52,
     "metadata": {},
     "output_type": "execute_result"
    }
   ],
   "source": [
    "len(author_article)"
   ]
  },
  {
   "cell_type": "code",
   "execution_count": 60,
   "metadata": {},
   "outputs": [
    {
     "data": {
      "text/plain": [
       "{'id': [0, 1013803, 8227147, 8634565, 9327239],\n",
       " 'order': [0, 0, 0, 0, 0],\n",
       " 'rank_score': []}"
      ]
     },
     "execution_count": 60,
     "metadata": {},
     "output_type": "execute_result"
    }
   ],
   "source": [
    "next(iter(author_article.values()))"
   ]
  },
  {
   "cell_type": "code",
   "execution_count": 51,
   "metadata": {
    "collapsed": true
   },
   "outputs": [],
   "source": [
    "with open('./data/author_article.json', 'w') as f:\n",
    "    json.dump(author_article, f, ensure_ascii=False)"
   ]
  },
  {
   "cell_type": "code",
   "execution_count": 23,
   "metadata": {},
   "outputs": [],
   "source": [
    "paper_author_coef = []\n",
    "for idx, row in enumerate(mag_list):\n",
    "    al = json.loads(row['authors'])\n",
    "    coef = 0\n",
    "    for order, author in enumerate(al):\n",
    "#         print(len(author_article[author]['id']))\n",
    "        coef += len(author_article[author]['id']) * (2**-order)\n",
    "    paper_author_coef.append(coef)"
   ]
  },
  {
   "cell_type": "code",
   "execution_count": 24,
   "metadata": {},
   "outputs": [
    {
     "data": {
      "text/plain": [
       "11763764"
      ]
     },
     "execution_count": 24,
     "metadata": {},
     "output_type": "execute_result"
    }
   ],
   "source": [
    "len(paper_author_coef)"
   ]
  },
  {
   "cell_type": "code",
   "execution_count": 27,
   "metadata": {},
   "outputs": [
    {
     "data": {
      "text/plain": [
       "8.25"
      ]
     },
     "execution_count": 27,
     "metadata": {},
     "output_type": "execute_result"
    }
   ],
   "source": [
    "paper_author_coef[0]"
   ]
  },
  {
   "cell_type": "code",
   "execution_count": 26,
   "metadata": {
    "collapsed": true
   },
   "outputs": [],
   "source": [
    "with open('./data/paper_author_coef.json', 'w') as f:\n",
    "    json.dump(paper_author_coef, f, ensure_ascii=False)"
   ]
  },
  {
   "cell_type": "code",
   "execution_count": null,
   "metadata": {
    "collapsed": true
   },
   "outputs": [],
   "source": []
  }
 ],
 "metadata": {
  "kernelspec": {
   "display_name": "Python 3",
   "language": "python",
   "name": "python3"
  },
  "language_info": {
   "codemirror_mode": {
    "name": "ipython",
    "version": 3
   },
   "file_extension": ".py",
   "mimetype": "text/x-python",
   "name": "python",
   "nbconvert_exporter": "python",
   "pygments_lexer": "ipython3",
   "version": "3.6.3"
  }
 },
 "nbformat": 4,
 "nbformat_minor": 2
}
