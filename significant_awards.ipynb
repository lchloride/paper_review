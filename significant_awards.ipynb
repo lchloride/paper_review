{
 "cells": [
  {
   "cell_type": "code",
   "execution_count": 5,
   "metadata": {
    "collapsed": true
   },
   "outputs": [],
   "source": [
    "turning_list=['Alan J. Perlis', 'Maurice Wilkes', 'Richard Hamming', 'Marvin Minsky', 'James H. Wilkinson', 'John McCarthy', 'Edsger W. Dijkstra', 'Charles W. Bachman', 'Donald E. Knuth', 'Allen Newell', 'Herbert A. Simon', 'Michael O. Rabin', 'Dana S. Scott', 'John Backus', 'Robert W. Floyd', 'Kenneth E. Iverson', 'Tony Hoare', 'Edgar F. Codd', 'Stephen A. Cook', 'Ken Thompson', 'Dennis M. Ritchie', 'Niklaus Wirth', 'Richard M. Karp', 'John Hopcroft', 'Robert Tarjan', 'John Cocke', 'Ivan Sutherland', 'William Kahan', 'Fernando J. Corbató', 'Robin Milner', 'Butler W. Lampson', 'Juris Hartmanis', 'Richard E. Stearns', 'Edward Feigenbaum', 'Raj Reddy', 'Manuel Blum', '\tAmir Pnueli', 'Douglas Engelbart', 'Jim Gray', 'Frederick P. Brooks, Jr.', 'Andrew Chi-Chih Yao', 'Ole-Johan Dahl', 'Kristen Nygaard', 'Ronald L. Rivest', 'Adi Shamir', 'Leonard M. Adleman', 'Alan Kay', 'Vinton G. Cerf', 'Robert E. Kahn', 'Peter Naur', 'Frances E. Allen', 'Edmund M. Clarke', 'E. Allen Emerson', 'Joseph Sifakis', 'Barbara Liskov', 'Charles P. Thacker', 'Leslie G. Valiant', 'Judea Pearl', 'Silvio Micali', 'Shafi Goldwasser', 'Leslie Lamport', 'Michael Stonebraker', 'Martin E. Hellman', 'Whitfield Diffie', 'Tim Berners-Lee', 'John L. Hennessy', 'David A. Patterson']"
   ]
  },
  {
   "cell_type": "code",
   "execution_count": 7,
   "metadata": {},
   "outputs": [
    {
     "data": {
      "text/plain": [
       "67"
      ]
     },
     "execution_count": 7,
     "metadata": {},
     "output_type": "execute_result"
    }
   ],
   "source": [
    "len(turning_list)"
   ]
  },
  {
   "cell_type": "code",
   "execution_count": 8,
   "metadata": {
    "collapsed": true
   },
   "outputs": [],
   "source": [
    "ieee_medal_of_honor=['Edwin H. Armstrong', 'Ernst Alexanderson', 'Guglielmo Marconi', 'Reginald A. Fessenden', 'Lee De Forest', 'John Stone Stone', 'Michael I. Pupin', 'Greenleaf W. Pickard', 'Louis W. Austin', 'Jonathan Zenneck', 'George W. Pierce', 'Peder Oluf Pedersen', 'Gustave A. Ferrie', 'Arthur Edwin Kennelly', 'John Ambrose Fleming', 'Stanford C. Hooper', 'Balthasar van der Pol', 'George Ashley Campbell', 'Melville Eastham', 'John H. Dellinger', 'Albert G. Lee', 'Lloyd Espenschied', 'Alfred N. Goldsmith', 'Albert H. Taylor', 'William Wilson', 'Haraden Pratt', 'Harold H. Beverage', 'Ralph Hartley', 'Lawrence C. F. Horle', 'Ralph Bown', 'Frederick Terman', 'Vladimir Zworykin', 'Walter R. G. Baker', 'John M. Miller', 'William L. Everitt', 'Harald T. Friis', 'John V. L. Hogan', 'Julius Adams Stratton', 'Albert Hull', 'Emory Leon Chaffee', 'Harry Nyquist', 'Ernst A. Guillemin', 'Edward Victor Appleton', 'John Hays Hammond, Jr.', 'George C. Southworth', 'Harold A. Wheeler', 'Claude Elwood Shannon', 'Charles H. Townes', 'Gordon K. Teal', 'Edward Ginzton', 'Dennis Gabor', 'John Bardeen', 'Jay W. Forrester', 'Rudolf Kompfner', 'Rudolf Kalman', 'John Robinson Pierce', 'H. Earle Vaughan', 'Robert Noyce', 'Richard Bellman', 'William Shockley', 'Sidney Darlington', 'John Tukey', 'Nicolaas Bloembergen', 'Norman F. Ramsey', 'John Roy Whinnery', 'Jack Kilby', 'Paul Lauterbur', 'Calvin Quate', 'C. Kumar Patel', 'Robert G. Gallager', 'Leo Esaki', 'Amos E. Joel, Jr.', 'Karl Johan Åström', 'Alfred Y. Cho', 'Lotfi A. Zadeh', 'Robert Metcalfe', 'George H. Heilmeier', 'Donald Pederson', 'Charles Concordia', 'Andrew Grove', 'Herwig Kogelnik', 'Herbert Kroemer', 'Nick Holonyak', 'Tadahiro Sekimoto', 'James Flanagan', 'James D. Meindl', 'Thomas Kailath', 'Gordon Moore', 'Robert H. Dennard', 'Andrew Viterbi', 'Morris Chang', 'John L. Hennessy', 'Irwin M. Jacobs', 'B. Jayant Baliga', 'Mildred Dresselhaus', 'G. David Forney, Jr.', 'Kornelis (Kees) A. Schouhamer Immink', 'Bradford W. Parkinson']"
   ]
  },
  {
   "cell_type": "code",
   "execution_count": 10,
   "metadata": {},
   "outputs": [
    {
     "data": {
      "text/plain": [
       "98"
      ]
     },
     "execution_count": 10,
     "metadata": {},
     "output_type": "execute_result"
    }
   ],
   "source": [
    "len(ieee_medal_of_honor)"
   ]
  },
  {
   "cell_type": "code",
   "execution_count": 11,
   "metadata": {
    "collapsed": true
   },
   "outputs": [],
   "source": [
    "marconi_prize=['James Rhyne Killian', 'Hiroshi Inose', 'Arthur Leonard Schawlow', 'Edward Colin Cherry', 'John Robinson Pierce', 'Yash Pal', 'Seymour Papert', 'Arthur C. Clarke', 'Francesco Carassa', 'Eric Albert Ash', 'Charles Kuen Kao', 'Leonard Kleinrock', 'Robert Wendell Lucky', 'Federico Faggin', 'Robert N. Hall', 'Andrew J. Viterbi', 'Paul Baran', 'James L. Flanagan', 'Izuo Hayashi', 'Robert E. Kahn', 'Jacob Ziv', 'Gottfried Ungerboeck', 'G. David Forney, Jr.', 'Vinton G. Cerf', 'James L. Massey', 'Martin Hellman and Whitfield Diffie', 'Herwig Kogelnik and Allan Snyder', 'Tim Berners-Lee', 'Robert Metcalfe', 'Robert G. Gallager', 'Sergey Brin', 'Lawrence Page', 'Claude Berrou', 'John M. Cioffi', 'Ronald L. Rivest', 'David N. Payne', 'Andrew Chraplyvy', 'Robert Tkach', 'Charles Geschke', 'John Warnock', 'Jack Wolf', 'Irwin M. Jacobs', 'Henry Samueli', 'Martin Cooper', 'Arogyaswami Paulraj', 'Peter Kirstein', 'Bradford Parkinson', 'Arun Netravali', 'F. Thomson Leighton']"
   ]
  },
  {
   "cell_type": "code",
   "execution_count": 12,
   "metadata": {},
   "outputs": [
    {
     "data": {
      "text/plain": [
       "49"
      ]
     },
     "execution_count": 12,
     "metadata": {},
     "output_type": "execute_result"
    }
   ],
   "source": [
    "len(marconi_prize)"
   ]
  },
  {
   "cell_type": "code",
   "execution_count": 13,
   "metadata": {
    "collapsed": true
   },
   "outputs": [],
   "source": [
    "import pandas as pd"
   ]
  },
  {
   "cell_type": "code",
   "execution_count": 60,
   "metadata": {},
   "outputs": [],
   "source": [
    "df = pd.read_csv('./data/author_score_3_cs100.csv')"
   ]
  },
  {
   "cell_type": "code",
   "execution_count": 61,
   "metadata": {},
   "outputs": [],
   "source": [
    "author_list=list(df['author'])"
   ]
  },
  {
   "cell_type": "code",
   "execution_count": 62,
   "metadata": {
    "collapsed": true
   },
   "outputs": [],
   "source": [
    "turing_count=0\n",
    "ieee_count=0\n",
    "marconi_count=0\n",
    "for author in author_list:\n",
    "    if author in turning_list:\n",
    "        turing_count+=1\n",
    "    if author in ieee_medal_of_honor:\n",
    "        ieee_count+=1\n",
    "    if author in marconi_prize:\n",
    "        marconi_count+=1        "
   ]
  },
  {
   "cell_type": "code",
   "execution_count": 63,
   "metadata": {},
   "outputs": [
    {
     "data": {
      "text/plain": [
       "21"
      ]
     },
     "execution_count": 63,
     "metadata": {},
     "output_type": "execute_result"
    }
   ],
   "source": [
    "turing_count"
   ]
  },
  {
   "cell_type": "code",
   "execution_count": 64,
   "metadata": {},
   "outputs": [
    {
     "data": {
      "text/plain": [
       "2"
      ]
     },
     "execution_count": 64,
     "metadata": {},
     "output_type": "execute_result"
    }
   ],
   "source": [
    "ieee_count"
   ]
  },
  {
   "cell_type": "code",
   "execution_count": 65,
   "metadata": {},
   "outputs": [
    {
     "data": {
      "text/plain": [
       "5"
      ]
     },
     "execution_count": 65,
     "metadata": {},
     "output_type": "execute_result"
    }
   ],
   "source": [
    "marconi_count"
   ]
  },
  {
   "cell_type": "code",
   "execution_count": 25,
   "metadata": {
    "collapsed": true
   },
   "outputs": [],
   "source": [
    "turing_percentage=turing_count/len(author_list)"
   ]
  },
  {
   "cell_type": "code",
   "execution_count": 26,
   "metadata": {},
   "outputs": [
    {
     "data": {
      "text/plain": [
       "0.21"
      ]
     },
     "execution_count": 26,
     "metadata": {},
     "output_type": "execute_result"
    }
   ],
   "source": [
    "turing_percentage"
   ]
  },
  {
   "cell_type": "code",
   "execution_count": 27,
   "metadata": {
    "collapsed": true
   },
   "outputs": [],
   "source": [
    "ieee_percentage=ieee_count/len(author_list)"
   ]
  },
  {
   "cell_type": "code",
   "execution_count": 28,
   "metadata": {},
   "outputs": [
    {
     "data": {
      "text/plain": [
       "0.02"
      ]
     },
     "execution_count": 28,
     "metadata": {},
     "output_type": "execute_result"
    }
   ],
   "source": [
    "ieee_percentage"
   ]
  },
  {
   "cell_type": "code",
   "execution_count": 29,
   "metadata": {
    "collapsed": true
   },
   "outputs": [],
   "source": [
    "marconi_percentage=marconi_count/len(author_list)"
   ]
  },
  {
   "cell_type": "code",
   "execution_count": 30,
   "metadata": {},
   "outputs": [
    {
     "data": {
      "text/plain": [
       "0.05"
      ]
     },
     "execution_count": 30,
     "metadata": {},
     "output_type": "execute_result"
    }
   ],
   "source": [
    "marconi_percentage"
   ]
  },
  {
   "cell_type": "code",
   "execution_count": 66,
   "metadata": {
    "collapsed": true
   },
   "outputs": [],
   "source": [
    "df_h_cs=pd.read_csv('./data/author_h_index_3_cs100.csv')"
   ]
  },
  {
   "cell_type": "code",
   "execution_count": 67,
   "metadata": {
    "collapsed": true
   },
   "outputs": [],
   "source": [
    "h_cslist=list(df_h_cs['author'])"
   ]
  },
  {
   "cell_type": "code",
   "execution_count": 68,
   "metadata": {
    "collapsed": true
   },
   "outputs": [],
   "source": [
    "turing_count=0\n",
    "ieee_count=0\n",
    "marconi_count=0\n",
    "for author in h_cslist:\n",
    "    if author in turning_list:\n",
    "        turing_count+=1\n",
    "    if author in ieee_medal_of_honor:\n",
    "        ieee_count+=1\n",
    "    if author in marconi_prize:\n",
    "        marconi_count+=1 "
   ]
  },
  {
   "cell_type": "code",
   "execution_count": 69,
   "metadata": {},
   "outputs": [
    {
     "data": {
      "text/plain": [
       "2"
      ]
     },
     "execution_count": 69,
     "metadata": {},
     "output_type": "execute_result"
    }
   ],
   "source": [
    "turing_count"
   ]
  },
  {
   "cell_type": "code",
   "execution_count": 70,
   "metadata": {},
   "outputs": [
    {
     "data": {
      "text/plain": [
       "0"
      ]
     },
     "execution_count": 70,
     "metadata": {},
     "output_type": "execute_result"
    }
   ],
   "source": [
    "ieee_count"
   ]
  },
  {
   "cell_type": "code",
   "execution_count": 71,
   "metadata": {},
   "outputs": [
    {
     "data": {
      "text/plain": [
       "0"
      ]
     },
     "execution_count": 71,
     "metadata": {},
     "output_type": "execute_result"
    }
   ],
   "source": [
    "marconi_count"
   ]
  },
  {
   "cell_type": "code",
   "execution_count": null,
   "metadata": {
    "collapsed": true
   },
   "outputs": [],
   "source": []
  },
  {
   "cell_type": "code",
   "execution_count": null,
   "metadata": {
    "collapsed": true
   },
   "outputs": [],
   "source": []
  },
  {
   "cell_type": "code",
   "execution_count": 72,
   "metadata": {
    "collapsed": true
   },
   "outputs": [],
   "source": [
    "df = pd.read_csv('./data/author_score_3_phy100.csv')"
   ]
  },
  {
   "cell_type": "code",
   "execution_count": 32,
   "metadata": {
    "scrolled": true
   },
   "outputs": [
    {
     "data": {
      "text/html": [
       "<div>\n",
       "<style scoped>\n",
       "    .dataframe tbody tr th:only-of-type {\n",
       "        vertical-align: middle;\n",
       "    }\n",
       "\n",
       "    .dataframe tbody tr th {\n",
       "        vertical-align: top;\n",
       "    }\n",
       "\n",
       "    .dataframe thead th {\n",
       "        text-align: right;\n",
       "    }\n",
       "</style>\n",
       "<table border=\"1\" class=\"dataframe\">\n",
       "  <thead>\n",
       "    <tr style=\"text-align: right;\">\n",
       "      <th></th>\n",
       "      <th>author</th>\n",
       "      <th>id</th>\n",
       "      <th>order</th>\n",
       "      <th>rank_score</th>\n",
       "      <th>score</th>\n",
       "      <th>major</th>\n",
       "    </tr>\n",
       "  </thead>\n",
       "  <tbody>\n",
       "    <tr>\n",
       "      <th>0</th>\n",
       "      <td>M. H. Kalos</td>\n",
       "      <td>[51781, 184829, 302355, 322525, 549267, 639038...</td>\n",
       "      <td>[1, 2, 3, 0, 1, 1, 0, 2, 2, 1, 2, 3, 2, 1, 4, ...</td>\n",
       "      <td>[7.955503603701052e-07, 1.721172667724948e-10,...</td>\n",
       "      <td>194.472837</td>\n",
       "      <td>Physics</td>\n",
       "    </tr>\n",
       "    <tr>\n",
       "      <th>1</th>\n",
       "      <td>Brian P. Flannery</td>\n",
       "      <td>[219469, 510519, 663027, 713938, 938154, 95033...</td>\n",
       "      <td>[2, 1, 0, 0, 0, 0, 2, 0, 2, 2, 2, 2, 1, 0, 1, ...</td>\n",
       "      <td>[7.085233366152944e-10, 3.012273567478747e-09,...</td>\n",
       "      <td>193.953096</td>\n",
       "      <td>Physics</td>\n",
       "    </tr>\n",
       "    <tr>\n",
       "      <th>2</th>\n",
       "      <td>John G. Kirkwood</td>\n",
       "      <td>[55480, 126515, 347095, 399562, 458664, 606781...</td>\n",
       "      <td>[0, 0, 0, 2, 0, 1, 0, 1, 0, 1, 1, 1, 0, 0, 0, ...</td>\n",
       "      <td>[2.2794310950021683e-07, 4.9463805153334964e-0...</td>\n",
       "      <td>184.547357</td>\n",
       "      <td>Physics</td>\n",
       "    </tr>\n",
       "    <tr>\n",
       "      <th>3</th>\n",
       "      <td>Horatio Scott Carslaw</td>\n",
       "      <td>[3532852]</td>\n",
       "      <td>[0]</td>\n",
       "      <td>[1.2367245523767375e-05]</td>\n",
       "      <td>169.013964</td>\n",
       "      <td>Physics</td>\n",
       "    </tr>\n",
       "    <tr>\n",
       "      <th>4</th>\n",
       "      <td>G. K. Batchelor</td>\n",
       "      <td>[119910, 195497, 696264, 791434, 892070, 10772...</td>\n",
       "      <td>[0, 0, 0, 0, 0, 0, 0, 0, 0, 0, 0, 0, 0, 0, 0, ...</td>\n",
       "      <td>[7.342694694066821e-07, 1.4736233961870685e-09...</td>\n",
       "      <td>167.883626</td>\n",
       "      <td>Physics</td>\n",
       "    </tr>\n",
       "    <tr>\n",
       "      <th>5</th>\n",
       "      <td>Max Born</td>\n",
       "      <td>[667795, 1087199, 1158268, 1592650, 1662893, 1...</td>\n",
       "      <td>[2, 0, 0, 0, 0, 0, 0, 0, 0, 0, 5, 0, 0, 0, 0, ...</td>\n",
       "      <td>[4.2636901969619276e-09, 6.554391325187153e-10...</td>\n",
       "      <td>160.007552</td>\n",
       "      <td>Physics</td>\n",
       "    </tr>\n",
       "    <tr>\n",
       "      <th>6</th>\n",
       "      <td>L.D. Landau</td>\n",
       "      <td>[103613, 111215, 189713, 769201, 1067937, 1225...</td>\n",
       "      <td>[1, 0, 0, 3, 0, 0, 0, 0, 0, 0, 0, 1, 0, 0, 0, ...</td>\n",
       "      <td>[8.864399697565904e-10, 1.474206862219068e-09,...</td>\n",
       "      <td>158.014420</td>\n",
       "      <td>Physics</td>\n",
       "    </tr>\n",
       "    <tr>\n",
       "      <th>7</th>\n",
       "      <td>Edward Witten</td>\n",
       "      <td>[12518, 43158, 118343, 124006, 138480, 160120,...</td>\n",
       "      <td>[0, 1, 1, 0, 0, 1, 1, 0, 0, 0, 1, 3, 1, 0, 0, ...</td>\n",
       "      <td>[1.3063038896194912e-09, 9.520668655180481e-08...</td>\n",
       "      <td>126.308535</td>\n",
       "      <td>Physics</td>\n",
       "    </tr>\n",
       "    <tr>\n",
       "      <th>8</th>\n",
       "      <td>Richard Bellman</td>\n",
       "      <td>[94897, 120390, 311122, 620839, 675952, 724750...</td>\n",
       "      <td>[0, 0, 0, 0, 0, 0, 0, 0, 0, 0, 0, 0, 0, 0, 0, ...</td>\n",
       "      <td>[1.181031945413126e-08, 4.369529751302428e-10,...</td>\n",
       "      <td>122.539398</td>\n",
       "      <td>Physics</td>\n",
       "    </tr>\n",
       "    <tr>\n",
       "      <th>9</th>\n",
       "      <td>Emmett N. Leith</td>\n",
       "      <td>[19573, 85531, 136294, 185427, 194841, 598420,...</td>\n",
       "      <td>[0, 0, 2, 0, 2, 2, 1, 0, 0, 0, 0, 1, 0, 3, 0, ...</td>\n",
       "      <td>[1.2216960812854214e-07, 2.3762292061877264e-0...</td>\n",
       "      <td>116.215911</td>\n",
       "      <td>Physics</td>\n",
       "    </tr>\n",
       "    <tr>\n",
       "      <th>10</th>\n",
       "      <td>Saul A. Teukolsky</td>\n",
       "      <td>[20122, 42883, 82416, 119841, 254176, 265989, ...</td>\n",
       "      <td>[2, 1, 2, 2, 978, 2, 4, 52, 0, 2, 3, 6, 4, 1, ...</td>\n",
       "      <td>[1.8442803629865982e-09, 5.945431458967433e-10...</td>\n",
       "      <td>113.125454</td>\n",
       "      <td>Physics</td>\n",
       "    </tr>\n",
       "    <tr>\n",
       "      <th>11</th>\n",
       "      <td>Lieut -Colonel George O Squier</td>\n",
       "      <td>[825267]</td>\n",
       "      <td>[0]</td>\n",
       "      <td>[8.203630680116353e-06]</td>\n",
       "      <td>112.050091</td>\n",
       "      <td>Physics</td>\n",
       "    </tr>\n",
       "    <tr>\n",
       "      <th>12</th>\n",
       "      <td>S.M. Sze</td>\n",
       "      <td>[432351, 436457, 606470, 851037, 941964, 11851...</td>\n",
       "      <td>[1, 1, 3, 0, 1, 2, 1, 1, 1, 1, 5, 2, 5, 2, 0, ...</td>\n",
       "      <td>[6.203904055955809e-09, 2.004632432251843e-09,...</td>\n",
       "      <td>108.910959</td>\n",
       "      <td>Physics</td>\n",
       "    </tr>\n",
       "    <tr>\n",
       "      <th>13</th>\n",
       "      <td>R. D. Richtmyer</td>\n",
       "      <td>[524691, 609682, 678853, 1227695, 1371463, 147...</td>\n",
       "      <td>[0, 1, 1, 0, 0, 2, 2, 0, 0, 1, 0, 0, 0, 0, 1, 1]</td>\n",
       "      <td>[5.641927545569502e-06, 3.7550599143114975e-06...</td>\n",
       "      <td>104.662813</td>\n",
       "      <td>Physics</td>\n",
       "    </tr>\n",
       "    <tr>\n",
       "      <th>14</th>\n",
       "      <td>W. Shockley</td>\n",
       "      <td>[33666, 236644, 244158, 269120, 299718, 446409...</td>\n",
       "      <td>[1, 2, 0, 0, 1, 0, 0, 0, 0, 1, 1, 1, 1, 0, 0, ...</td>\n",
       "      <td>[1.0539825955420167e-08, 3.472985104936821e-10...</td>\n",
       "      <td>102.487897</td>\n",
       "      <td>Physics</td>\n",
       "    </tr>\n",
       "    <tr>\n",
       "      <th>15</th>\n",
       "      <td>H. Kogelnik</td>\n",
       "      <td>[576013, 620799, 787867, 909050, 945236, 96433...</td>\n",
       "      <td>[0, 2, 0, 0, 5, 0, 0, 2, 0, 1, 0, 0, 0, 2, 1, ...</td>\n",
       "      <td>[1.5463544074599093e-07, 4.783548489007421e-09...</td>\n",
       "      <td>101.919009</td>\n",
       "      <td>Physics</td>\n",
       "    </tr>\n",
       "    <tr>\n",
       "      <th>16</th>\n",
       "      <td>J. C. Jaeger</td>\n",
       "      <td>[387270, 412685, 582901, 602875, 622022, 82795...</td>\n",
       "      <td>[0, 0, 0, 0, 0, 0, 0, 0, 0, 0, 0, 0, 0, 0, 0, ...</td>\n",
       "      <td>[1.9632601079331627e-09, 5.9322052020135234e-0...</td>\n",
       "      <td>97.949881</td>\n",
       "      <td>Physics</td>\n",
       "    </tr>\n",
       "    <tr>\n",
       "      <th>17</th>\n",
       "      <td>S. O. Rice</td>\n",
       "      <td>[1179821, 2935272, 3020100, 3936267, 4410379, ...</td>\n",
       "      <td>[1, 0, 0, 0, 1, 0, 1, 0, 2, 1, 0, 0]</td>\n",
       "      <td>[2.7088228750938495e-07, 6.595784948162993e-06...</td>\n",
       "      <td>96.640030</td>\n",
       "      <td>Physics</td>\n",
       "    </tr>\n",
       "    <tr>\n",
       "      <th>18</th>\n",
       "      <td>Charles Kittel</td>\n",
       "      <td>[441138, 599366, 845026, 861978, 907124, 91901...</td>\n",
       "      <td>[0, 0, 0, 1, 0, 1, 0, 0, 0, 0, 0, 0, 0, 0, 1, ...</td>\n",
       "      <td>[7.737881131471529e-09, 4.576670019126561e-09,...</td>\n",
       "      <td>95.689407</td>\n",
       "      <td>Physics</td>\n",
       "    </tr>\n",
       "    <tr>\n",
       "      <th>19</th>\n",
       "      <td>Richard P. Feynman</td>\n",
       "      <td>[38945, 51712, 351298, 440317, 923880, 1210866...</td>\n",
       "      <td>[0, 0, 0, 0, 1, 0, 0, 0, 0, 0, 0, 0, 0, 0, 0, ...</td>\n",
       "      <td>[4.1147407081367664e-09, 6.072942700692051e-08...</td>\n",
       "      <td>95.582917</td>\n",
       "      <td>Physics</td>\n",
       "    </tr>\n",
       "    <tr>\n",
       "      <th>20</th>\n",
       "      <td>S. Chandrasekhar</td>\n",
       "      <td>[3738, 61100, 63392, 78417, 205762, 228165, 28...</td>\n",
       "      <td>[0, 3, 4, 1, 0, 0, 1, 0, 0, 0, 1, 0, 0, 1, 2, ...</td>\n",
       "      <td>[1.160317943978274e-10, 3.2492971668593986e-09...</td>\n",
       "      <td>93.286402</td>\n",
       "      <td>Physics</td>\n",
       "    </tr>\n",
       "    <tr>\n",
       "      <th>21</th>\n",
       "      <td>Stephen W. Hawking</td>\n",
       "      <td>[25815, 60156, 124375, 182806, 205532, 268814,...</td>\n",
       "      <td>[0, 0, 1, 0, 1, 0, 1, 0, 0, 0, 0, 1, 0, 0, 1, ...</td>\n",
       "      <td>[3.2316020941416976e-10, 3.302928420004401e-10...</td>\n",
       "      <td>87.566126</td>\n",
       "      <td>Physics</td>\n",
       "    </tr>\n",
       "    <tr>\n",
       "      <th>22</th>\n",
       "      <td>John A. Pople</td>\n",
       "      <td>[91043, 134920, 164390, 211904, 292077, 335774...</td>\n",
       "      <td>[5, 0, 3, 1, 1, 1, 4, 2, 0, 1, 1, 1, 1, 0, 1, ...</td>\n",
       "      <td>[1.0695112640913424e-08, 1.2846494566417182e-0...</td>\n",
       "      <td>85.066421</td>\n",
       "      <td>Physics</td>\n",
       "    </tr>\n",
       "    <tr>\n",
       "      <th>23</th>\n",
       "      <td>John R. Carson</td>\n",
       "      <td>[875867, 995162, 1906165, 2031019, 2070932, 25...</td>\n",
       "      <td>[0, 0, 0, 0, 0, 0, 0, 0, 0, 0, 0, 0, 0, 0, 0, ...</td>\n",
       "      <td>[2.564281406196313e-09, 1.9126007255789022e-08...</td>\n",
       "      <td>84.816710</td>\n",
       "      <td>Physics</td>\n",
       "    </tr>\n",
       "    <tr>\n",
       "      <th>24</th>\n",
       "      <td>Peter D. Lax</td>\n",
       "      <td>[423658, 714530, 917545, 1431984, 3201231, 339...</td>\n",
       "      <td>[0, 0, 0, 0, 0, 1, 0, 0, 0, 0, 0, 0, 1, 0, 0, ...</td>\n",
       "      <td>[1.6075100987552314e-08, 1.776927219331988e-09...</td>\n",
       "      <td>82.785709</td>\n",
       "      <td>Physics</td>\n",
       "    </tr>\n",
       "    <tr>\n",
       "      <th>25</th>\n",
       "      <td>Benoit B. Mandelbrot</td>\n",
       "      <td>[85767, 321344, 430415, 1058168, 1602281, 1605...</td>\n",
       "      <td>[3, 0, 0, 0, 2, 0, 0, 0, 0, 2, 0, 0, 0, 0, 0, ...</td>\n",
       "      <td>[2.8976270111380552e-08, 9.67123324039902e-10,...</td>\n",
       "      <td>81.709576</td>\n",
       "      <td>Physics</td>\n",
       "    </tr>\n",
       "    <tr>\n",
       "      <th>26</th>\n",
       "      <td>Paula A. Whitlock</td>\n",
       "      <td>[781851, 892112, 1085865, 1364414, 1508717, 17...</td>\n",
       "      <td>[2, 1, 0, 1, 1, 0, 1, 0, 0, 2, 0, 0, 1, 1, 1, ...</td>\n",
       "      <td>[2.3250607834789225e-11, 2.9203127437166516e-0...</td>\n",
       "      <td>81.006794</td>\n",
       "      <td>Physics</td>\n",
       "    </tr>\n",
       "    <tr>\n",
       "      <th>27</th>\n",
       "      <td>Steven Weinberg</td>\n",
       "      <td>[67672, 229033, 230082, 250266, 298989, 310129...</td>\n",
       "      <td>[0, 1, 0, 0, 0, 1, 0, 3, 0, 0, 0, 0, 0, 0, 0, ...</td>\n",
       "      <td>[5.003647589320804e-09, 1.5774356763805565e-08...</td>\n",
       "      <td>80.192894</td>\n",
       "      <td>Physics</td>\n",
       "    </tr>\n",
       "    <tr>\n",
       "      <th>28</th>\n",
       "      <td>Linus Pauling</td>\n",
       "      <td>[316521, 331231, 401816, 455419, 498367, 68760...</td>\n",
       "      <td>[1, 0, 0, 0, 0, 0, 0, 0, 1, 0, 0, 0, 0, 0, 0, ...</td>\n",
       "      <td>[1.29038464180997e-08, 6.008255831854525e-10, ...</td>\n",
       "      <td>79.385162</td>\n",
       "      <td>Physics</td>\n",
       "    </tr>\n",
       "    <tr>\n",
       "      <th>29</th>\n",
       "      <td>Zvi Hashin</td>\n",
       "      <td>[544620, 1500534, 1659241, 2326874, 2337772, 2...</td>\n",
       "      <td>[0, 0, 0, 0, 1, 0, 0, 1, 0, 0, 0, 0, 0, 1, 0, ...</td>\n",
       "      <td>[1.1941658739610276e-07, 3.305343224420359e-07...</td>\n",
       "      <td>77.995369</td>\n",
       "      <td>Physics</td>\n",
       "    </tr>\n",
       "    <tr>\n",
       "      <th>...</th>\n",
       "      <td>...</td>\n",
       "      <td>...</td>\n",
       "      <td>...</td>\n",
       "      <td>...</td>\n",
       "      <td>...</td>\n",
       "      <td>...</td>\n",
       "    </tr>\n",
       "    <tr>\n",
       "      <th>70</th>\n",
       "      <td>Joseph O. Hirschfelder</td>\n",
       "      <td>[43144, 73567, 149331, 295156, 381480, 458141,...</td>\n",
       "      <td>[1, 1, 2, 0, 1, 0, 0, 1, 4, 0, 0, 2, 0, 1, 1, ...</td>\n",
       "      <td>[3.3566079091431133e-09, 2.1361201711404734e-0...</td>\n",
       "      <td>55.459192</td>\n",
       "      <td>Physics</td>\n",
       "    </tr>\n",
       "    <tr>\n",
       "      <th>71</th>\n",
       "      <td>Sara M. McMurry</td>\n",
       "      <td>[5735054]</td>\n",
       "      <td>[0]</td>\n",
       "      <td>[4.064229395893609e-06]</td>\n",
       "      <td>55.417493</td>\n",
       "      <td>Physics</td>\n",
       "    </tr>\n",
       "    <tr>\n",
       "      <th>72</th>\n",
       "      <td>John R. Pierce</td>\n",
       "      <td>[233850, 337976, 459832, 535401, 572159, 60016...</td>\n",
       "      <td>[0, 0, 0, 1, 2, 0, 2, 0, 0, 0, 0, 0, 0, 0, 0, ...</td>\n",
       "      <td>[2.8157328382984063e-09, 7.756491597794426e-08...</td>\n",
       "      <td>55.128907</td>\n",
       "      <td>Physics</td>\n",
       "    </tr>\n",
       "    <tr>\n",
       "      <th>73</th>\n",
       "      <td>E. Clementi</td>\n",
       "      <td>[22002, 108948, 203683, 222299, 281058, 303093...</td>\n",
       "      <td>[0, 2, 1, 1, 0, 1, 0, 0, 2, 3, 3, 0, 0, 0, 0, ...</td>\n",
       "      <td>[1.3403370646008488e-07, 8.702066494090418e-08...</td>\n",
       "      <td>55.108921</td>\n",
       "      <td>Physics</td>\n",
       "    </tr>\n",
       "    <tr>\n",
       "      <th>74</th>\n",
       "      <td>Eugene P. Wigner</td>\n",
       "      <td>[74517, 212448, 231279, 330241, 495512, 542607...</td>\n",
       "      <td>[1, 2, 1, 1, 0, 0, 0, 3, 0, 1, 0, 0, 1, 0, 0, ...</td>\n",
       "      <td>[2.1252621674489745e-07, 2.383790809150962e-09...</td>\n",
       "      <td>54.887082</td>\n",
       "      <td>Physics</td>\n",
       "    </tr>\n",
       "    <tr>\n",
       "      <th>75</th>\n",
       "      <td>E. R. G. Eckert</td>\n",
       "      <td>[260565, 306445, 405603, 407680, 438542, 54093...</td>\n",
       "      <td>[2, 0, 1, 1, 2, 0, 1, 3, 0, 0, 0, 3, 1, 1, 0, ...</td>\n",
       "      <td>[8.056457566861655e-09, 4.373003974011129e-08,...</td>\n",
       "      <td>54.701366</td>\n",
       "      <td>Physics</td>\n",
       "    </tr>\n",
       "    <tr>\n",
       "      <th>76</th>\n",
       "      <td>B. E. Warren</td>\n",
       "      <td>[6522, 126459, 513168, 985162, 995197, 1004798...</td>\n",
       "      <td>[0, 38, 2, 1, 1, 5, 0, 0, 0, 2, 0, 0, 4, 1, 0,...</td>\n",
       "      <td>[7.488203503884805e-09, 2.978818726582374e-10,...</td>\n",
       "      <td>54.490166</td>\n",
       "      <td>Physics</td>\n",
       "    </tr>\n",
       "    <tr>\n",
       "      <th>77</th>\n",
       "      <td>John Bardeen</td>\n",
       "      <td>[78551, 111128, 115648, 129734, 158383, 225312...</td>\n",
       "      <td>[0, 2, 0, 0, 1, 0, 0, 0, 0, 0, 0, 0, 0, 0, 0, ...</td>\n",
       "      <td>[2.26458135930542e-07, 1.851706584286002e-09, ...</td>\n",
       "      <td>53.599851</td>\n",
       "      <td>Physics</td>\n",
       "    </tr>\n",
       "    <tr>\n",
       "      <th>78</th>\n",
       "      <td>Geoffrey Taylor</td>\n",
       "      <td>[43996, 61130, 120458, 199537, 280120, 283700,...</td>\n",
       "      <td>[2589, 2553, 0, 0, 2699, 2722, 0, 0, 0, 2562, ...</td>\n",
       "      <td>[8.705536374323765e-11, 8.858013026941214e-10,...</td>\n",
       "      <td>53.513192</td>\n",
       "      <td>Physics</td>\n",
       "    </tr>\n",
       "    <tr>\n",
       "      <th>79</th>\n",
       "      <td>J. P. Gordon</td>\n",
       "      <td>[174349, 227300, 305383, 417228, 482424, 56903...</td>\n",
       "      <td>[1, 1, 1, 2, 1, 2, 2, 0, 0, 2, 1, 2, 1, 3, 0, ...</td>\n",
       "      <td>[7.927678540683382e-08, 1.4004687201023684e-07...</td>\n",
       "      <td>53.284375</td>\n",
       "      <td>Physics</td>\n",
       "    </tr>\n",
       "    <tr>\n",
       "      <th>80</th>\n",
       "      <td>Michael A. Nielsen</td>\n",
       "      <td>[185310, 278517, 365485, 376011, 398957, 41474...</td>\n",
       "      <td>[1, 1, 1, 0, 0, 2, 0, 0, 0, 2, 2, 0, 2, 0, 1, ...</td>\n",
       "      <td>[4.932939132353509e-09, 2.576470733476185e-09,...</td>\n",
       "      <td>52.844245</td>\n",
       "      <td>Physics</td>\n",
       "    </tr>\n",
       "    <tr>\n",
       "      <th>81</th>\n",
       "      <td>Louis J. Farrugia</td>\n",
       "      <td>[314585, 468592, 716548, 803558, 2488769, 2651...</td>\n",
       "      <td>[1, 6, 2, 0, 0, 0, 0, 0, 0, 0, 0, 0, 0, 0, 0, ...</td>\n",
       "      <td>[1.004189754360815e-09, 1.0226382633968112e-09...</td>\n",
       "      <td>52.809899</td>\n",
       "      <td>Physics</td>\n",
       "    </tr>\n",
       "    <tr>\n",
       "      <th>82</th>\n",
       "      <td>R. Ulrich</td>\n",
       "      <td>[8566, 13704, 17545, 60831, 66832, 93681, 1006...</td>\n",
       "      <td>[35, 527, 526, 3, 8, 547, 532, 1926, 525, 577,...</td>\n",
       "      <td>[1.7161190098953208e-10, 3.943166417414822e-10...</td>\n",
       "      <td>52.012223</td>\n",
       "      <td>Physics</td>\n",
       "    </tr>\n",
       "    <tr>\n",
       "      <th>83</th>\n",
       "      <td>B. E. Launder</td>\n",
       "      <td>[90198, 198249, 224582, 244051, 288876, 322472...</td>\n",
       "      <td>[0, 0, 1, 0, 2, 0, 0, 0, 4, 0, 2, 4, 0, 0, 1, ...</td>\n",
       "      <td>[1.50377302699157e-09, 4.971601319743001e-09, ...</td>\n",
       "      <td>51.986159</td>\n",
       "      <td>Physics</td>\n",
       "    </tr>\n",
       "    <tr>\n",
       "      <th>84</th>\n",
       "      <td>James R. Wait</td>\n",
       "      <td>[56941, 83519, 123290, 154882, 176868, 181639,...</td>\n",
       "      <td>[1, 0, 0, 0, 0, 0, 0, 0, 0, 0, 0, 0, 0, 0, 1, ...</td>\n",
       "      <td>[1.8957199118971023e-09, 7.743534927163354e-11...</td>\n",
       "      <td>51.637119</td>\n",
       "      <td>Physics</td>\n",
       "    </tr>\n",
       "    <tr>\n",
       "      <th>85</th>\n",
       "      <td>Juris Upatnieks</td>\n",
       "      <td>[194841, 690873, 1024990, 1295720, 1391970, 14...</td>\n",
       "      <td>[0, 1, 2, 1, 1, 1, 0, 0, 0, 1, 0, 0, 1, 0, 1, ...</td>\n",
       "      <td>[1.9325556623346722e-07, 2.4921651660903662e-0...</td>\n",
       "      <td>51.616144</td>\n",
       "      <td>Physics</td>\n",
       "    </tr>\n",
       "    <tr>\n",
       "      <th>86</th>\n",
       "      <td>Julian Schwinger</td>\n",
       "      <td>[124841, 265777, 635211, 722975, 767312, 87839...</td>\n",
       "      <td>[0, 0, 0, 1, 0, 0, 2, 0, 0, 0, 0, 0, 0, 0, 1, ...</td>\n",
       "      <td>[7.978347131372521e-10, 5.449534212734344e-08,...</td>\n",
       "      <td>51.600531</td>\n",
       "      <td>Physics</td>\n",
       "    </tr>\n",
       "    <tr>\n",
       "      <th>87</th>\n",
       "      <td>R. H. Stolen</td>\n",
       "      <td>[4151, 58369, 258953, 318387, 379191, 499595, ...</td>\n",
       "      <td>[3, 1, 0, 0, 6, 1, 5, 1, 1, 0, 4, 0, 0, 1, 8, ...</td>\n",
       "      <td>[1.7566219544284184e-07, 3.4231595085545736e-0...</td>\n",
       "      <td>51.276985</td>\n",
       "      <td>Physics</td>\n",
       "    </tr>\n",
       "    <tr>\n",
       "      <th>88</th>\n",
       "      <td>J. VonNeumann</td>\n",
       "      <td>[609682]</td>\n",
       "      <td>[0]</td>\n",
       "      <td>[3.7550599143114975e-06]</td>\n",
       "      <td>51.187637</td>\n",
       "      <td>Physics</td>\n",
       "    </tr>\n",
       "    <tr>\n",
       "      <th>89</th>\n",
       "      <td>Stephen Wolfram</td>\n",
       "      <td>[140151, 199631, 211638, 309157, 405946, 45705...</td>\n",
       "      <td>[0, 1, 0, 0, 1, 0, 0, 0, 0, 0, 0, 5, 3, 1, 0, ...</td>\n",
       "      <td>[1.2070751988815354e-09, 5.192950416817575e-09...</td>\n",
       "      <td>50.896292</td>\n",
       "      <td>Physics</td>\n",
       "    </tr>\n",
       "    <tr>\n",
       "      <th>90</th>\n",
       "      <td>F. P. Bowden</td>\n",
       "      <td>[284403, 631124, 1085437, 1350523, 1722992, 20...</td>\n",
       "      <td>[0, 0, 0, 0, 0, 0, 0, 0, 9, 0, 0, 0, 0, 0, 2, ...</td>\n",
       "      <td>[3.4654671508991676e-09, 1.658401394190191e-08...</td>\n",
       "      <td>50.790409</td>\n",
       "      <td>Physics</td>\n",
       "    </tr>\n",
       "    <tr>\n",
       "      <th>91</th>\n",
       "      <td>J. J. Hopfield</td>\n",
       "      <td>[584824, 675167, 707249, 881853, 1033451, 1061...</td>\n",
       "      <td>[1, 1, 0, 1, 1, 0, 1, 0, 1, 0, 0, 1, 0, 0, 1, ...</td>\n",
       "      <td>[1.3754311262295836e-07, 6.858596841512178e-09...</td>\n",
       "      <td>50.719446</td>\n",
       "      <td>Physics</td>\n",
       "    </tr>\n",
       "    <tr>\n",
       "      <th>92</th>\n",
       "      <td>C. Truesdell</td>\n",
       "      <td>[474087, 541702, 737882, 1455090, 1939873, 197...</td>\n",
       "      <td>[0, 1, 1, 0, 0, 0, 0, 0, 0, 0, 0, 0, 0, 0, 0, ...</td>\n",
       "      <td>[1.51918649158314e-07, 9.010837277221049e-10, ...</td>\n",
       "      <td>50.359239</td>\n",
       "      <td>Physics</td>\n",
       "    </tr>\n",
       "    <tr>\n",
       "      <th>93</th>\n",
       "      <td>John W. Miles</td>\n",
       "      <td>[25409, 197590, 204100, 245287, 249209, 307672...</td>\n",
       "      <td>[0, 0, 0, 0, 0, 0, 0, 0, 1, 0, 0, 1, 0, 0, 5, ...</td>\n",
       "      <td>[3.099071503359968e-09, 2.1826779218341138e-09...</td>\n",
       "      <td>50.110695</td>\n",
       "      <td>Physics</td>\n",
       "    </tr>\n",
       "    <tr>\n",
       "      <th>94</th>\n",
       "      <td>A. H. Cottrell</td>\n",
       "      <td>[1236709, 1287237, 1567161, 1853219, 2421394, ...</td>\n",
       "      <td>[1, 0, 0, 0, 1, 0, 0, 0, 0, 0, 0, 1, 0, 1, 0, ...</td>\n",
       "      <td>[1.5946150325086985e-07, 3.1118779146482977e-0...</td>\n",
       "      <td>49.943893</td>\n",
       "      <td>Physics</td>\n",
       "    </tr>\n",
       "    <tr>\n",
       "      <th>95</th>\n",
       "      <td>J. G. Bednorz</td>\n",
       "      <td>[69442, 94541, 208268, 522038, 600960, 616572,...</td>\n",
       "      <td>[2, 2, 0, 0, 2, 2, 6, 1, 3, 2, 2, 3, 0, 6, 1, ...</td>\n",
       "      <td>[5.1900798866160095e-09, 1.6466606939890378e-0...</td>\n",
       "      <td>49.615844</td>\n",
       "      <td>Physics</td>\n",
       "    </tr>\n",
       "    <tr>\n",
       "      <th>96</th>\n",
       "      <td>Simon Ramo</td>\n",
       "      <td>[70681, 1891141, 4003082, 4530195, 4736234, 47...</td>\n",
       "      <td>[0, 0, 0, 0, 1, 0, 0, 0, 1, 1, 0, 1, 2, 1, 1, 1]</td>\n",
       "      <td>[8.495763498799061e-07, 4.6089925999191324e-07...</td>\n",
       "      <td>48.802227</td>\n",
       "      <td>Physics</td>\n",
       "    </tr>\n",
       "    <tr>\n",
       "      <th>97</th>\n",
       "      <td>James R. Rice</td>\n",
       "      <td>[102625, 487317, 590388, 611520, 790117, 96557...</td>\n",
       "      <td>[1, 1, 1, 2, 1, 1, 0, 0, 0, 0, 1, 0, 0, 2, 1, ...</td>\n",
       "      <td>[1.5422515903721404e-07, 4.881770403338387e-09...</td>\n",
       "      <td>47.844608</td>\n",
       "      <td>Physics</td>\n",
       "    </tr>\n",
       "    <tr>\n",
       "      <th>98</th>\n",
       "      <td>Ilya Prigogine</td>\n",
       "      <td>[42014, 42872, 170033, 173110, 210508, 216144,...</td>\n",
       "      <td>[0, 0, 0, 1, 0, 1, 1, 0, 1, 1, 1, 0, 0, 0, 1, ...</td>\n",
       "      <td>[2.1564402570613908e-07, 5.695760079784175e-10...</td>\n",
       "      <td>47.825824</td>\n",
       "      <td>Physics</td>\n",
       "    </tr>\n",
       "    <tr>\n",
       "      <th>99</th>\n",
       "      <td>J F Nye</td>\n",
       "      <td>[2281431, 8679908, 10107534, 10609202]</td>\n",
       "      <td>[0, 0, 0, 0]</td>\n",
       "      <td>[3.47830466535192e-06, 1.043989831825936e-08, ...</td>\n",
       "      <td>47.789513</td>\n",
       "      <td>Physics</td>\n",
       "    </tr>\n",
       "  </tbody>\n",
       "</table>\n",
       "<p>100 rows × 6 columns</p>\n",
       "</div>"
      ],
      "text/plain": [
       "                            author  \\\n",
       "0                      M. H. Kalos   \n",
       "1                Brian P. Flannery   \n",
       "2                 John G. Kirkwood   \n",
       "3            Horatio Scott Carslaw   \n",
       "4                  G. K. Batchelor   \n",
       "5                         Max Born   \n",
       "6                      L.D. Landau   \n",
       "7                    Edward Witten   \n",
       "8                  Richard Bellman   \n",
       "9                  Emmett N. Leith   \n",
       "10               Saul A. Teukolsky   \n",
       "11  Lieut -Colonel George O Squier   \n",
       "12                        S.M. Sze   \n",
       "13                 R. D. Richtmyer   \n",
       "14                     W. Shockley   \n",
       "15                     H. Kogelnik   \n",
       "16                    J. C. Jaeger   \n",
       "17                      S. O. Rice   \n",
       "18                  Charles Kittel   \n",
       "19              Richard P. Feynman   \n",
       "20                S. Chandrasekhar   \n",
       "21              Stephen W. Hawking   \n",
       "22                   John A. Pople   \n",
       "23                  John R. Carson   \n",
       "24                    Peter D. Lax   \n",
       "25            Benoit B. Mandelbrot   \n",
       "26               Paula A. Whitlock   \n",
       "27                 Steven Weinberg   \n",
       "28                   Linus Pauling   \n",
       "29                      Zvi Hashin   \n",
       "..                             ...   \n",
       "70          Joseph O. Hirschfelder   \n",
       "71                 Sara M. McMurry   \n",
       "72                  John R. Pierce   \n",
       "73                     E. Clementi   \n",
       "74                Eugene P. Wigner   \n",
       "75                 E. R. G. Eckert   \n",
       "76                    B. E. Warren   \n",
       "77                    John Bardeen   \n",
       "78                 Geoffrey Taylor   \n",
       "79                    J. P. Gordon   \n",
       "80              Michael A. Nielsen   \n",
       "81               Louis J. Farrugia   \n",
       "82                       R. Ulrich   \n",
       "83                   B. E. Launder   \n",
       "84                   James R. Wait   \n",
       "85                 Juris Upatnieks   \n",
       "86                Julian Schwinger   \n",
       "87                    R. H. Stolen   \n",
       "88                   J. VonNeumann   \n",
       "89                 Stephen Wolfram   \n",
       "90                    F. P. Bowden   \n",
       "91                  J. J. Hopfield   \n",
       "92                    C. Truesdell   \n",
       "93                   John W. Miles   \n",
       "94                  A. H. Cottrell   \n",
       "95                   J. G. Bednorz   \n",
       "96                      Simon Ramo   \n",
       "97                   James R. Rice   \n",
       "98                  Ilya Prigogine   \n",
       "99                         J F Nye   \n",
       "\n",
       "                                                   id  \\\n",
       "0   [51781, 184829, 302355, 322525, 549267, 639038...   \n",
       "1   [219469, 510519, 663027, 713938, 938154, 95033...   \n",
       "2   [55480, 126515, 347095, 399562, 458664, 606781...   \n",
       "3                                           [3532852]   \n",
       "4   [119910, 195497, 696264, 791434, 892070, 10772...   \n",
       "5   [667795, 1087199, 1158268, 1592650, 1662893, 1...   \n",
       "6   [103613, 111215, 189713, 769201, 1067937, 1225...   \n",
       "7   [12518, 43158, 118343, 124006, 138480, 160120,...   \n",
       "8   [94897, 120390, 311122, 620839, 675952, 724750...   \n",
       "9   [19573, 85531, 136294, 185427, 194841, 598420,...   \n",
       "10  [20122, 42883, 82416, 119841, 254176, 265989, ...   \n",
       "11                                           [825267]   \n",
       "12  [432351, 436457, 606470, 851037, 941964, 11851...   \n",
       "13  [524691, 609682, 678853, 1227695, 1371463, 147...   \n",
       "14  [33666, 236644, 244158, 269120, 299718, 446409...   \n",
       "15  [576013, 620799, 787867, 909050, 945236, 96433...   \n",
       "16  [387270, 412685, 582901, 602875, 622022, 82795...   \n",
       "17  [1179821, 2935272, 3020100, 3936267, 4410379, ...   \n",
       "18  [441138, 599366, 845026, 861978, 907124, 91901...   \n",
       "19  [38945, 51712, 351298, 440317, 923880, 1210866...   \n",
       "20  [3738, 61100, 63392, 78417, 205762, 228165, 28...   \n",
       "21  [25815, 60156, 124375, 182806, 205532, 268814,...   \n",
       "22  [91043, 134920, 164390, 211904, 292077, 335774...   \n",
       "23  [875867, 995162, 1906165, 2031019, 2070932, 25...   \n",
       "24  [423658, 714530, 917545, 1431984, 3201231, 339...   \n",
       "25  [85767, 321344, 430415, 1058168, 1602281, 1605...   \n",
       "26  [781851, 892112, 1085865, 1364414, 1508717, 17...   \n",
       "27  [67672, 229033, 230082, 250266, 298989, 310129...   \n",
       "28  [316521, 331231, 401816, 455419, 498367, 68760...   \n",
       "29  [544620, 1500534, 1659241, 2326874, 2337772, 2...   \n",
       "..                                                ...   \n",
       "70  [43144, 73567, 149331, 295156, 381480, 458141,...   \n",
       "71                                          [5735054]   \n",
       "72  [233850, 337976, 459832, 535401, 572159, 60016...   \n",
       "73  [22002, 108948, 203683, 222299, 281058, 303093...   \n",
       "74  [74517, 212448, 231279, 330241, 495512, 542607...   \n",
       "75  [260565, 306445, 405603, 407680, 438542, 54093...   \n",
       "76  [6522, 126459, 513168, 985162, 995197, 1004798...   \n",
       "77  [78551, 111128, 115648, 129734, 158383, 225312...   \n",
       "78  [43996, 61130, 120458, 199537, 280120, 283700,...   \n",
       "79  [174349, 227300, 305383, 417228, 482424, 56903...   \n",
       "80  [185310, 278517, 365485, 376011, 398957, 41474...   \n",
       "81  [314585, 468592, 716548, 803558, 2488769, 2651...   \n",
       "82  [8566, 13704, 17545, 60831, 66832, 93681, 1006...   \n",
       "83  [90198, 198249, 224582, 244051, 288876, 322472...   \n",
       "84  [56941, 83519, 123290, 154882, 176868, 181639,...   \n",
       "85  [194841, 690873, 1024990, 1295720, 1391970, 14...   \n",
       "86  [124841, 265777, 635211, 722975, 767312, 87839...   \n",
       "87  [4151, 58369, 258953, 318387, 379191, 499595, ...   \n",
       "88                                           [609682]   \n",
       "89  [140151, 199631, 211638, 309157, 405946, 45705...   \n",
       "90  [284403, 631124, 1085437, 1350523, 1722992, 20...   \n",
       "91  [584824, 675167, 707249, 881853, 1033451, 1061...   \n",
       "92  [474087, 541702, 737882, 1455090, 1939873, 197...   \n",
       "93  [25409, 197590, 204100, 245287, 249209, 307672...   \n",
       "94  [1236709, 1287237, 1567161, 1853219, 2421394, ...   \n",
       "95  [69442, 94541, 208268, 522038, 600960, 616572,...   \n",
       "96  [70681, 1891141, 4003082, 4530195, 4736234, 47...   \n",
       "97  [102625, 487317, 590388, 611520, 790117, 96557...   \n",
       "98  [42014, 42872, 170033, 173110, 210508, 216144,...   \n",
       "99             [2281431, 8679908, 10107534, 10609202]   \n",
       "\n",
       "                                                order  \\\n",
       "0   [1, 2, 3, 0, 1, 1, 0, 2, 2, 1, 2, 3, 2, 1, 4, ...   \n",
       "1   [2, 1, 0, 0, 0, 0, 2, 0, 2, 2, 2, 2, 1, 0, 1, ...   \n",
       "2   [0, 0, 0, 2, 0, 1, 0, 1, 0, 1, 1, 1, 0, 0, 0, ...   \n",
       "3                                                 [0]   \n",
       "4   [0, 0, 0, 0, 0, 0, 0, 0, 0, 0, 0, 0, 0, 0, 0, ...   \n",
       "5   [2, 0, 0, 0, 0, 0, 0, 0, 0, 0, 5, 0, 0, 0, 0, ...   \n",
       "6   [1, 0, 0, 3, 0, 0, 0, 0, 0, 0, 0, 1, 0, 0, 0, ...   \n",
       "7   [0, 1, 1, 0, 0, 1, 1, 0, 0, 0, 1, 3, 1, 0, 0, ...   \n",
       "8   [0, 0, 0, 0, 0, 0, 0, 0, 0, 0, 0, 0, 0, 0, 0, ...   \n",
       "9   [0, 0, 2, 0, 2, 2, 1, 0, 0, 0, 0, 1, 0, 3, 0, ...   \n",
       "10  [2, 1, 2, 2, 978, 2, 4, 52, 0, 2, 3, 6, 4, 1, ...   \n",
       "11                                                [0]   \n",
       "12  [1, 1, 3, 0, 1, 2, 1, 1, 1, 1, 5, 2, 5, 2, 0, ...   \n",
       "13   [0, 1, 1, 0, 0, 2, 2, 0, 0, 1, 0, 0, 0, 0, 1, 1]   \n",
       "14  [1, 2, 0, 0, 1, 0, 0, 0, 0, 1, 1, 1, 1, 0, 0, ...   \n",
       "15  [0, 2, 0, 0, 5, 0, 0, 2, 0, 1, 0, 0, 0, 2, 1, ...   \n",
       "16  [0, 0, 0, 0, 0, 0, 0, 0, 0, 0, 0, 0, 0, 0, 0, ...   \n",
       "17               [1, 0, 0, 0, 1, 0, 1, 0, 2, 1, 0, 0]   \n",
       "18  [0, 0, 0, 1, 0, 1, 0, 0, 0, 0, 0, 0, 0, 0, 1, ...   \n",
       "19  [0, 0, 0, 0, 1, 0, 0, 0, 0, 0, 0, 0, 0, 0, 0, ...   \n",
       "20  [0, 3, 4, 1, 0, 0, 1, 0, 0, 0, 1, 0, 0, 1, 2, ...   \n",
       "21  [0, 0, 1, 0, 1, 0, 1, 0, 0, 0, 0, 1, 0, 0, 1, ...   \n",
       "22  [5, 0, 3, 1, 1, 1, 4, 2, 0, 1, 1, 1, 1, 0, 1, ...   \n",
       "23  [0, 0, 0, 0, 0, 0, 0, 0, 0, 0, 0, 0, 0, 0, 0, ...   \n",
       "24  [0, 0, 0, 0, 0, 1, 0, 0, 0, 0, 0, 0, 1, 0, 0, ...   \n",
       "25  [3, 0, 0, 0, 2, 0, 0, 0, 0, 2, 0, 0, 0, 0, 0, ...   \n",
       "26  [2, 1, 0, 1, 1, 0, 1, 0, 0, 2, 0, 0, 1, 1, 1, ...   \n",
       "27  [0, 1, 0, 0, 0, 1, 0, 3, 0, 0, 0, 0, 0, 0, 0, ...   \n",
       "28  [1, 0, 0, 0, 0, 0, 0, 0, 1, 0, 0, 0, 0, 0, 0, ...   \n",
       "29  [0, 0, 0, 0, 1, 0, 0, 1, 0, 0, 0, 0, 0, 1, 0, ...   \n",
       "..                                                ...   \n",
       "70  [1, 1, 2, 0, 1, 0, 0, 1, 4, 0, 0, 2, 0, 1, 1, ...   \n",
       "71                                                [0]   \n",
       "72  [0, 0, 0, 1, 2, 0, 2, 0, 0, 0, 0, 0, 0, 0, 0, ...   \n",
       "73  [0, 2, 1, 1, 0, 1, 0, 0, 2, 3, 3, 0, 0, 0, 0, ...   \n",
       "74  [1, 2, 1, 1, 0, 0, 0, 3, 0, 1, 0, 0, 1, 0, 0, ...   \n",
       "75  [2, 0, 1, 1, 2, 0, 1, 3, 0, 0, 0, 3, 1, 1, 0, ...   \n",
       "76  [0, 38, 2, 1, 1, 5, 0, 0, 0, 2, 0, 0, 4, 1, 0,...   \n",
       "77  [0, 2, 0, 0, 1, 0, 0, 0, 0, 0, 0, 0, 0, 0, 0, ...   \n",
       "78  [2589, 2553, 0, 0, 2699, 2722, 0, 0, 0, 2562, ...   \n",
       "79  [1, 1, 1, 2, 1, 2, 2, 0, 0, 2, 1, 2, 1, 3, 0, ...   \n",
       "80  [1, 1, 1, 0, 0, 2, 0, 0, 0, 2, 2, 0, 2, 0, 1, ...   \n",
       "81  [1, 6, 2, 0, 0, 0, 0, 0, 0, 0, 0, 0, 0, 0, 0, ...   \n",
       "82  [35, 527, 526, 3, 8, 547, 532, 1926, 525, 577,...   \n",
       "83  [0, 0, 1, 0, 2, 0, 0, 0, 4, 0, 2, 4, 0, 0, 1, ...   \n",
       "84  [1, 0, 0, 0, 0, 0, 0, 0, 0, 0, 0, 0, 0, 0, 1, ...   \n",
       "85  [0, 1, 2, 1, 1, 1, 0, 0, 0, 1, 0, 0, 1, 0, 1, ...   \n",
       "86  [0, 0, 0, 1, 0, 0, 2, 0, 0, 0, 0, 0, 0, 0, 1, ...   \n",
       "87  [3, 1, 0, 0, 6, 1, 5, 1, 1, 0, 4, 0, 0, 1, 8, ...   \n",
       "88                                                [0]   \n",
       "89  [0, 1, 0, 0, 1, 0, 0, 0, 0, 0, 0, 5, 3, 1, 0, ...   \n",
       "90  [0, 0, 0, 0, 0, 0, 0, 0, 9, 0, 0, 0, 0, 0, 2, ...   \n",
       "91  [1, 1, 0, 1, 1, 0, 1, 0, 1, 0, 0, 1, 0, 0, 1, ...   \n",
       "92  [0, 1, 1, 0, 0, 0, 0, 0, 0, 0, 0, 0, 0, 0, 0, ...   \n",
       "93  [0, 0, 0, 0, 0, 0, 0, 0, 1, 0, 0, 1, 0, 0, 5, ...   \n",
       "94  [1, 0, 0, 0, 1, 0, 0, 0, 0, 0, 0, 1, 0, 1, 0, ...   \n",
       "95  [2, 2, 0, 0, 2, 2, 6, 1, 3, 2, 2, 3, 0, 6, 1, ...   \n",
       "96   [0, 0, 0, 0, 1, 0, 0, 0, 1, 1, 0, 1, 2, 1, 1, 1]   \n",
       "97  [1, 1, 1, 2, 1, 1, 0, 0, 0, 0, 1, 0, 0, 2, 1, ...   \n",
       "98  [0, 0, 0, 1, 0, 1, 1, 0, 1, 1, 1, 0, 0, 0, 1, ...   \n",
       "99                                       [0, 0, 0, 0]   \n",
       "\n",
       "                                           rank_score       score    major  \n",
       "0   [7.955503603701052e-07, 1.721172667724948e-10,...  194.472837  Physics  \n",
       "1   [7.085233366152944e-10, 3.012273567478747e-09,...  193.953096  Physics  \n",
       "2   [2.2794310950021683e-07, 4.9463805153334964e-0...  184.547357  Physics  \n",
       "3                            [1.2367245523767375e-05]  169.013964  Physics  \n",
       "4   [7.342694694066821e-07, 1.4736233961870685e-09...  167.883626  Physics  \n",
       "5   [4.2636901969619276e-09, 6.554391325187153e-10...  160.007552  Physics  \n",
       "6   [8.864399697565904e-10, 1.474206862219068e-09,...  158.014420  Physics  \n",
       "7   [1.3063038896194912e-09, 9.520668655180481e-08...  126.308535  Physics  \n",
       "8   [1.181031945413126e-08, 4.369529751302428e-10,...  122.539398  Physics  \n",
       "9   [1.2216960812854214e-07, 2.3762292061877264e-0...  116.215911  Physics  \n",
       "10  [1.8442803629865982e-09, 5.945431458967433e-10...  113.125454  Physics  \n",
       "11                            [8.203630680116353e-06]  112.050091  Physics  \n",
       "12  [6.203904055955809e-09, 2.004632432251843e-09,...  108.910959  Physics  \n",
       "13  [5.641927545569502e-06, 3.7550599143114975e-06...  104.662813  Physics  \n",
       "14  [1.0539825955420167e-08, 3.472985104936821e-10...  102.487897  Physics  \n",
       "15  [1.5463544074599093e-07, 4.783548489007421e-09...  101.919009  Physics  \n",
       "16  [1.9632601079331627e-09, 5.9322052020135234e-0...   97.949881  Physics  \n",
       "17  [2.7088228750938495e-07, 6.595784948162993e-06...   96.640030  Physics  \n",
       "18  [7.737881131471529e-09, 4.576670019126561e-09,...   95.689407  Physics  \n",
       "19  [4.1147407081367664e-09, 6.072942700692051e-08...   95.582917  Physics  \n",
       "20  [1.160317943978274e-10, 3.2492971668593986e-09...   93.286402  Physics  \n",
       "21  [3.2316020941416976e-10, 3.302928420004401e-10...   87.566126  Physics  \n",
       "22  [1.0695112640913424e-08, 1.2846494566417182e-0...   85.066421  Physics  \n",
       "23  [2.564281406196313e-09, 1.9126007255789022e-08...   84.816710  Physics  \n",
       "24  [1.6075100987552314e-08, 1.776927219331988e-09...   82.785709  Physics  \n",
       "25  [2.8976270111380552e-08, 9.67123324039902e-10,...   81.709576  Physics  \n",
       "26  [2.3250607834789225e-11, 2.9203127437166516e-0...   81.006794  Physics  \n",
       "27  [5.003647589320804e-09, 1.5774356763805565e-08...   80.192894  Physics  \n",
       "28  [1.29038464180997e-08, 6.008255831854525e-10, ...   79.385162  Physics  \n",
       "29  [1.1941658739610276e-07, 3.305343224420359e-07...   77.995369  Physics  \n",
       "..                                                ...         ...      ...  \n",
       "70  [3.3566079091431133e-09, 2.1361201711404734e-0...   55.459192  Physics  \n",
       "71                            [4.064229395893609e-06]   55.417493  Physics  \n",
       "72  [2.8157328382984063e-09, 7.756491597794426e-08...   55.128907  Physics  \n",
       "73  [1.3403370646008488e-07, 8.702066494090418e-08...   55.108921  Physics  \n",
       "74  [2.1252621674489745e-07, 2.383790809150962e-09...   54.887082  Physics  \n",
       "75  [8.056457566861655e-09, 4.373003974011129e-08,...   54.701366  Physics  \n",
       "76  [7.488203503884805e-09, 2.978818726582374e-10,...   54.490166  Physics  \n",
       "77  [2.26458135930542e-07, 1.851706584286002e-09, ...   53.599851  Physics  \n",
       "78  [8.705536374323765e-11, 8.858013026941214e-10,...   53.513192  Physics  \n",
       "79  [7.927678540683382e-08, 1.4004687201023684e-07...   53.284375  Physics  \n",
       "80  [4.932939132353509e-09, 2.576470733476185e-09,...   52.844245  Physics  \n",
       "81  [1.004189754360815e-09, 1.0226382633968112e-09...   52.809899  Physics  \n",
       "82  [1.7161190098953208e-10, 3.943166417414822e-10...   52.012223  Physics  \n",
       "83  [1.50377302699157e-09, 4.971601319743001e-09, ...   51.986159  Physics  \n",
       "84  [1.8957199118971023e-09, 7.743534927163354e-11...   51.637119  Physics  \n",
       "85  [1.9325556623346722e-07, 2.4921651660903662e-0...   51.616144  Physics  \n",
       "86  [7.978347131372521e-10, 5.449534212734344e-08,...   51.600531  Physics  \n",
       "87  [1.7566219544284184e-07, 3.4231595085545736e-0...   51.276985  Physics  \n",
       "88                           [3.7550599143114975e-06]   51.187637  Physics  \n",
       "89  [1.2070751988815354e-09, 5.192950416817575e-09...   50.896292  Physics  \n",
       "90  [3.4654671508991676e-09, 1.658401394190191e-08...   50.790409  Physics  \n",
       "91  [1.3754311262295836e-07, 6.858596841512178e-09...   50.719446  Physics  \n",
       "92  [1.51918649158314e-07, 9.010837277221049e-10, ...   50.359239  Physics  \n",
       "93  [3.099071503359968e-09, 2.1826779218341138e-09...   50.110695  Physics  \n",
       "94  [1.5946150325086985e-07, 3.1118779146482977e-0...   49.943893  Physics  \n",
       "95  [5.1900798866160095e-09, 1.6466606939890378e-0...   49.615844  Physics  \n",
       "96  [8.495763498799061e-07, 4.6089925999191324e-07...   48.802227  Physics  \n",
       "97  [1.5422515903721404e-07, 4.881770403338387e-09...   47.844608  Physics  \n",
       "98  [2.1564402570613908e-07, 5.695760079784175e-10...   47.825824  Physics  \n",
       "99  [3.47830466535192e-06, 1.043989831825936e-08, ...   47.789513  Physics  \n",
       "\n",
       "[100 rows x 6 columns]"
      ]
     },
     "execution_count": 32,
     "metadata": {},
     "output_type": "execute_result"
    }
   ],
   "source": [
    "df"
   ]
  },
  {
   "cell_type": "code",
   "execution_count": 73,
   "metadata": {
    "collapsed": true
   },
   "outputs": [],
   "source": [
    "author_list=list(df['author'])"
   ]
  },
  {
   "cell_type": "code",
   "execution_count": 39,
   "metadata": {
    "collapsed": true
   },
   "outputs": [],
   "source": [
    "nobel_list=['Wilhelm Conrad Röntgen', 'Hendrik Lorentz', 'Pieter Zeeman', 'Antoine Henri Becquerel', 'Pierre Curie', 'Maria Skłodowska-Curie', 'Lord Rayleigh', 'Philipp Eduard Anton von Lenard', 'Joseph John Thomson', 'Albert Abraham Michelson', 'Gabriel Lippmann', 'Guglielmo Marconi', 'Karl Ferdinand Braun', 'Johannes Diderik van der Waals', 'Wilhelm Wien' , 'Nils Gustaf Dalén', 'Heike Kamerlingh-Onnes', 'Max von Laue', 'William Henry Bragg', 'William Lawrence Bragg', 'Charles Glover Barkla', 'Max Planck', 'Johannes Stark', 'Charles Édouard Guillaume', 'Albert Einstein', 'Niels Bohr', 'Robert Andrews Millikan', 'Manne Siegbahn', 'James Franck', 'Gustav Hertz', 'Jean Baptiste Perrin', 'Arthur Holly Compton', 'Charles Thomson Rees Wilson', 'Owen Willans Richardson', 'Louis Victor Pierre Raymond, 7th Duc de Broglie', 'Chandrasekhara Venkata Raman', 'Werner Heisenberg', 'Erwin Schrödinger', 'Paul Dirac', 'James Chadwick', 'Victor Francis Hess', 'Carl David Anderson', 'Clinton Joseph Davisson', 'George Paget Thomson', 'Enrico Fermi', 'Ernest Lawrence', 'Otto Stern', 'Isidor Isaac Rabi', 'Wolfgang Pauli', 'Percy Williams Bridgman', 'Edward Victor Appleton', 'Patrick Maynard Stuart Blackett', 'Hideki Yukawa', 'Cecil Frank Powell', 'John Douglas Cockcroft', 'Ernest Thomas Sinton Walton', 'Felix Bloch', 'Edward Mills Purcell', 'Frits Zernike', 'Max Born', 'Walther Bothe', 'Willis Eugene Lamb', 'Polykarp Kusch', 'John Bardeen', 'Walter Houser Brattain', 'William Bradford Shockley', 'Tsung-Dao Lee', 'Chen-Ning Yang', 'Pavel Alekseyevich Cherenkov', 'Ilya Frank', 'Igor Yevgenyevich Tamm', 'Emilio Gino Segrè', 'Owen Chamberlain', 'Donald Arthur Glaser', 'Robert Hofstadter', 'Rudolf Ludwig Mössbauer', 'Lev Davidovich Landau', 'Eugene Paul Wigner', 'Maria Goeppert-Mayer', 'J. Hans D. Jensen', 'Nicolay Gennadiyevich Basov', 'Alexander Prokhorov', 'Charles Hard Townes', 'Richard Phillips Feynman', 'Julian Schwinger', 'Shinichirō Tomonaga', 'Alfred Kastler', 'Hans Albrecht Bethe', 'Luis Walter Alvarez', 'Murray Gell-Mann', 'Hannes Olof Gösta Alfvén', 'Louis Néel', 'Dennis Gabor', 'John Bardeen', 'Leon Neil Cooper', 'John Robert Schrieffer', 'Leo Esaki', 'Ivar Giaever', 'Brian David Josephson', 'Martin Ryle', 'Antony Hewish', 'Aage Bohr', 'Ben Roy Mottelson', 'Leo James Rainwater', 'Burton Richter', 'Samuel Chao Chung Ting', 'Philip Warren Anderson', 'Nevill Francis Mott', 'John Hasbrouck Van Vleck', 'Pyotr Leonidovich Kapitsa', 'Arno Allan Penzias', 'Robert Woodrow Wilson', 'Sheldon Lee Glashow', 'Abdus Salam', 'Steven Weinberg', 'James Watson Cronin', 'James Watson Cronin', 'Val Logsdon Fitch', 'Nicolaas Bloembergen', 'Arthur Leonard Schawlow', 'Kai Manne Börje Siegbahn', 'Kenneth G. Wilson', 'Subrahmanyan Chandrasekhar', 'William Alfred Fowler', 'Carlo Rubbia', 'Simon van der Meer', 'Klaus von Klitzing', 'Ernst Ruska', 'Gerd Binnig', 'Heinrich Rohrer', 'Johannes Georg Bednorz', 'Karl Alexander Müller', 'Leon Max Lederman', 'Melvin Schwartz', 'Jack Steinberger', 'Norman Foster Ramsey', 'Hans Georg Dehmelt', 'Wolfgang Paul', 'Jerome I. Friedman', 'Henry Way Kendall', 'Richard E. Taylor', 'Pierre-Gilles de Gennes', 'Georges Charpak', 'Russell Alan Hulse', 'Joseph Hooton Taylor Jr.', 'Bertram Brockhouse', 'Clifford Glenwood Shull', 'Martin Lewis Perl', 'Frederick Reines', 'David Morris Lee', 'Douglas D. Osheroff', 'Robert Coleman Richardson', 'Steven Chu', 'Claude Cohen-Tannoudji', 'William Daniel Phillips', 'Robert B. Laughlin', 'Horst Ludwig Störmer', 'Daniel Chee Tsui', 'Gerard t Hooft', 'Martinus J. G. Veltman', 'Zhores Ivanovich Alferov', 'Herbert Kroemer', '\tJack St. Clair Kilby', 'Eric Allin Cornell', 'Carl Edwin Wieman', 'Wolfgang Ketterle', 'Raymond Davis Jr.', 'Masatoshi Koshiba', 'Riccardo Giacconi', 'Alexei Alexeyevich Abrikosov', 'Vitaly Lazarevich Ginzburg', 'Anthony James Leggett', 'David J. Gross', 'Hugh David Politzer', 'Frank Wilczek', 'Roy J. Glauber', 'John L. Hall', 'Theodor W. Hänsch', 'John C. Mather', 'George F. Smoot', 'Albert Fert', 'Peter Grünberg', 'Makoto Kobayashi', 'Toshihide Maskawa', 'Yoichiro Nambu', 'Charles K. Kao', 'Willard S. Boyle', 'George E. Smith', 'Andre Geim', 'Konstantin Novoselov', 'Saul Perlmutter', 'Brian P. Schmidt', 'Adam G. Riess', 'Serge Haroche', 'David J. Wineland', 'François Englert', 'Peter Higgs', 'Isamu Akasaki', 'Hiroshi Amano', 'Shuji Nakamura', 'Takaaki Kajita', 'Arthur B. McDonald', 'David J. Thouless', 'F. Duncan M. Haldane', 'John M. Kosterlitz', 'Rainer Weiss', 'Kip Thorne', 'Barry Barish', 'Arthur Ashkin', 'Gérard Mourou', 'Donna Strickland']"
   ]
  },
  {
   "cell_type": "code",
   "execution_count": 40,
   "metadata": {},
   "outputs": [
    {
     "data": {
      "text/plain": [
       "211"
      ]
     },
     "execution_count": 40,
     "metadata": {},
     "output_type": "execute_result"
    }
   ],
   "source": [
    "len(nobel_list)"
   ]
  },
  {
   "cell_type": "code",
   "execution_count": 80,
   "metadata": {
    "collapsed": true
   },
   "outputs": [],
   "source": [
    "dirac_medal=['Hannes Alfven', 'John Clive Ward', 'Nicolaas Bloembergen', 'David Pines', 'Robert Hofstadter', 'Klaus von Klitzing', 'Carlo Rubbia', 'Kenneth G. Wilson', 'Norman F. Ramsey', 'Herbert A. Hauptman', 'Wolfgang Paul', 'Edwin Salpeter', 'David Deutsch', 'Heinrich Hora', 'Edward Shuryak', 'Iosif Khriplovich', 'Sir Roger Penrose', 'Harald Fritzsch', 'E. C. George Sudarshan', 'Lord May of Oxford', 'Brian Schmidt', 'Sir Michael Pepper', 'Serge Haroche', 'Subir Sachdev', 'Kenneth Freeman', 'Boris Altshuler']"
   ]
  },
  {
   "cell_type": "code",
   "execution_count": 81,
   "metadata": {},
   "outputs": [
    {
     "data": {
      "text/plain": [
       "26"
      ]
     },
     "execution_count": 81,
     "metadata": {},
     "output_type": "execute_result"
    }
   ],
   "source": [
    "len(dirac_medal)"
   ]
  },
  {
   "cell_type": "code",
   "execution_count": 84,
   "metadata": {
    "collapsed": true
   },
   "outputs": [],
   "source": [
    "lars_onsager=['Michael E. Fisher', 'Robert Kraichnan', 'Leo Kadanoff', 'Chen Ning Yang', 'John M. Kosterlitz', 'David J. Thouless', 'Bertrand Halperin', 'Anatoly Larkin', 'Pierre Hohenberg', 'John Cardy', 'Valery Pokrovsky', 'Rodney Baxter', 'A. Brooks Harris', 'Christopher Pethick', 'Gordon Baym', 'Tin-Lun Ho', 'B. Sriram Shastry', 'Stephen Shenker', 'Daniel Friedan', 'Alexander Belavin', 'Alexander Zamolodchikov', 'Alexander Polyakov', 'Ian Affleck', 'Daniel S. Fisher', 'Grigory E. Volovik', 'Vladimir P. Mineev', 'Franz Wegner', 'Marc Mézard', 'Giorgio Parisi', 'Riccardo Zecchina', 'Natan Andrei', 'Paul Wiegmann', 'Subir Sachdev', 'Christopher Jarzynski']"
   ]
  },
  {
   "cell_type": "code",
   "execution_count": 85,
   "metadata": {},
   "outputs": [
    {
     "data": {
      "text/plain": [
       "34"
      ]
     },
     "execution_count": 85,
     "metadata": {},
     "output_type": "execute_result"
    }
   ],
   "source": [
    "len(lars_onsager)"
   ]
  },
  {
   "cell_type": "code",
   "execution_count": null,
   "metadata": {
    "collapsed": true
   },
   "outputs": [],
   "source": [
    "oliver=['']"
   ]
  },
  {
   "cell_type": "code",
   "execution_count": null,
   "metadata": {
    "collapsed": true
   },
   "outputs": [],
   "source": []
  },
  {
   "cell_type": "code",
   "execution_count": 86,
   "metadata": {
    "collapsed": true
   },
   "outputs": [],
   "source": [
    "nobel_count=0\n",
    "dirac_count=0\n",
    "lars_onsager_count=0\n",
    "for author in author_list:\n",
    "    if author in nobel_list:\n",
    "        nobel_count+=1\n",
    "    if author in dirac_medal:\n",
    "        dirac_count+=1\n",
    "    if author in lars_onsager:\n",
    "        lars_onsager_count+=1"
   ]
  },
  {
   "cell_type": "code",
   "execution_count": 75,
   "metadata": {},
   "outputs": [
    {
     "data": {
      "text/plain": [
       "5"
      ]
     },
     "execution_count": 75,
     "metadata": {},
     "output_type": "execute_result"
    }
   ],
   "source": [
    "nobel_count"
   ]
  },
  {
   "cell_type": "code",
   "execution_count": 83,
   "metadata": {},
   "outputs": [
    {
     "data": {
      "text/plain": [
       "0"
      ]
     },
     "execution_count": 83,
     "metadata": {},
     "output_type": "execute_result"
    }
   ],
   "source": [
    "dirac_count"
   ]
  },
  {
   "cell_type": "code",
   "execution_count": 87,
   "metadata": {},
   "outputs": [
    {
     "data": {
      "text/plain": [
       "0"
      ]
     },
     "execution_count": 87,
     "metadata": {},
     "output_type": "execute_result"
    }
   ],
   "source": [
    "lars_onsager_count"
   ]
  },
  {
   "cell_type": "code",
   "execution_count": 76,
   "metadata": {
    "collapsed": true
   },
   "outputs": [],
   "source": [
    "df_h=pd.read_csv('./data/author_h_index_3_phy100.csv')"
   ]
  },
  {
   "cell_type": "code",
   "execution_count": 77,
   "metadata": {},
   "outputs": [],
   "source": [
    "hlist=list(df_h['author'])"
   ]
  },
  {
   "cell_type": "code",
   "execution_count": 88,
   "metadata": {
    "collapsed": true
   },
   "outputs": [],
   "source": [
    "nobel_count=0\n",
    "dirac_count=0\n",
    "lars_onsager_count=0\n",
    "for author in hlist:\n",
    "    if author in nobel_list:\n",
    "        nobel_count+=1\n",
    "    if author in dirac_medal:\n",
    "        dirac_count+=1\n",
    "    if author in lars_onsager:\n",
    "        lars_onsager_count+=1"
   ]
  },
  {
   "cell_type": "code",
   "execution_count": 89,
   "metadata": {},
   "outputs": [
    {
     "data": {
      "text/plain": [
       "0"
      ]
     },
     "execution_count": 89,
     "metadata": {},
     "output_type": "execute_result"
    }
   ],
   "source": [
    "nobel_count"
   ]
  },
  {
   "cell_type": "code",
   "execution_count": 90,
   "metadata": {},
   "outputs": [
    {
     "data": {
      "text/plain": [
       "0"
      ]
     },
     "execution_count": 90,
     "metadata": {},
     "output_type": "execute_result"
    }
   ],
   "source": [
    "dirac_count"
   ]
  },
  {
   "cell_type": "code",
   "execution_count": 91,
   "metadata": {},
   "outputs": [
    {
     "data": {
      "text/plain": [
       "0"
      ]
     },
     "execution_count": 91,
     "metadata": {},
     "output_type": "execute_result"
    }
   ],
   "source": [
    "lars_onsager_count"
   ]
  },
  {
   "cell_type": "code",
   "execution_count": 56,
   "metadata": {
    "collapsed": true
   },
   "outputs": [],
   "source": []
  },
  {
   "cell_type": "code",
   "execution_count": null,
   "metadata": {
    "collapsed": true
   },
   "outputs": [],
   "source": []
  }
 ],
 "metadata": {
  "kernelspec": {
   "display_name": "Python 3",
   "language": "python",
   "name": "python3"
  },
  "language_info": {
   "codemirror_mode": {
    "name": "ipython",
    "version": 3
   },
   "file_extension": ".py",
   "mimetype": "text/x-python",
   "name": "python",
   "nbconvert_exporter": "python",
   "pygments_lexer": "ipython3",
   "version": "3.6.3"
  }
 },
 "nbformat": 4,
 "nbformat_minor": 2
}
